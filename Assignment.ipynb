{
  "nbformat": 4,
  "nbformat_minor": 0,
  "metadata": {
    "colab": {
      "provenance": []
    },
    "kernelspec": {
      "name": "python3",
      "display_name": "Python 3"
    },
    "language_info": {
      "name": "python"
    }
  },
  "cells": [
    {
      "cell_type": "markdown",
      "source": [
        "I have created 3 tables, customer table containing customer details, product table containing product details and transaction table containing transaction detail.For further details I have enclosed the csv files in the main folder.I did analysis and finally ploted few charts"
      ],
      "metadata": {
        "id": "sbr45k4c26VK"
      }
    },
    {
      "cell_type": "code",
      "execution_count": null,
      "metadata": {
        "colab": {
          "base_uri": "https://localhost:8080/"
        },
        "id": "quW3M5YQ521T",
        "outputId": "a1f7f179-f810-4a99-d335-7e76954b262b"
      },
      "outputs": [
        {
          "output_type": "stream",
          "name": "stdout",
          "text": [
            "Collecting pyspark\n",
            "  Downloading pyspark-3.4.1.tar.gz (310.8 MB)\n",
            "\u001b[2K     \u001b[90m━━━━━━━━━━━━━━━━━━━━━━━━━━━━━━━━━━━━━━━\u001b[0m \u001b[32m310.8/310.8 MB\u001b[0m \u001b[31m4.2 MB/s\u001b[0m eta \u001b[36m0:00:00\u001b[0m\n",
            "\u001b[?25h  Preparing metadata (setup.py) ... \u001b[?25l\u001b[?25hdone\n",
            "Requirement already satisfied: py4j==0.10.9.7 in /usr/local/lib/python3.10/dist-packages (from pyspark) (0.10.9.7)\n",
            "Building wheels for collected packages: pyspark\n",
            "  Building wheel for pyspark (setup.py) ... \u001b[?25l\u001b[?25hdone\n",
            "  Created wheel for pyspark: filename=pyspark-3.4.1-py2.py3-none-any.whl size=311285398 sha256=aa625e93e2c86a81fae545c4cd3f1ff954591b9b7ce89bc89956dfba795f2734\n",
            "  Stored in directory: /root/.cache/pip/wheels/0d/77/a3/ff2f74cc9ab41f8f594dabf0579c2a7c6de920d584206e0834\n",
            "Successfully built pyspark\n",
            "Installing collected packages: pyspark\n",
            "Successfully installed pyspark-3.4.1\n"
          ]
        }
      ],
      "source": [
        "pip install pyspark\n"
      ]
    },
    {
      "cell_type": "code",
      "source": [
        "from pyspark.sql import SparkSession\n",
        "import pyspark.sql.functions as F\n",
        "from pyspark.sql import  Window\n",
        "import pyspark.sql.types as T\n",
        "from pyspark.sql.functions import unix_timestamp, from_unixtime\n"
      ],
      "metadata": {
        "id": "NPhfBkJm7E9c"
      },
      "execution_count": null,
      "outputs": []
    },
    {
      "cell_type": "code",
      "source": [
        "spark = SparkSession.builder.getOrCreate()"
      ],
      "metadata": {
        "id": "ba9TZoeP7E_3"
      },
      "execution_count": null,
      "outputs": []
    },
    {
      "cell_type": "markdown",
      "source": [
        "Reading Transaction csv file"
      ],
      "metadata": {
        "id": "tfJz0Eq3wwyM"
      }
    },
    {
      "cell_type": "code",
      "source": [
        "df = spark.read.csv('/content/Transaction.csv', inferSchema = True , header=True)"
      ],
      "metadata": {
        "id": "zYjLfzkh7FB8"
      },
      "execution_count": null,
      "outputs": []
    },
    {
      "cell_type": "code",
      "source": [
        "df.show(5)"
      ],
      "metadata": {
        "colab": {
          "base_uri": "https://localhost:8080/"
        },
        "id": "D7k4HWxC7FEY",
        "outputId": "0fb92714-8fb6-4133-9a7f-c0f722a410d9"
      },
      "execution_count": null,
      "outputs": [
        {
          "output_type": "stream",
          "name": "stdout",
          "text": [
            "+----------+-------------+----------+---------+--------------------+------------+--------+----------+\n",
            "|CustomerID|TransactionNo|      Date|ProductNo|             product|market_price|Quantity|CustomerNo|\n",
            "+----------+-------------+----------+---------+--------------------+------------+--------+----------+\n",
            "|         1|       581482|01-01-2021|    22485|Garlic Oil - Vege...|       220.0|      12|     17490|\n",
            "|         2|       581475|04-01-2021|    22596|Water Bottle - Or...|       180.0|      36|     13069|\n",
            "|         2|       581475|05-01-2021|    23235|Brass Angle Deep ...|       250.0|      12|     13069|\n",
            "|         2|       581475|06-01-2021|    23272|Cereal Flip Lid C...|       176.0|      12|     13069|\n",
            "|         2|       581475|07-01-2021|    23239|Creme Soft Soap -...|       162.0|       6|     13069|\n",
            "+----------+-------------+----------+---------+--------------------+------------+--------+----------+\n",
            "only showing top 5 rows\n",
            "\n"
          ]
        }
      ]
    },
    {
      "cell_type": "markdown",
      "source": [
        "Dividing the DataFrame into groups or partitions based on the values in the 'CustomerID' column. Each partition will have its own frame of data for calculations and we are ordering by date"
      ],
      "metadata": {
        "id": "Y47OiDKXxWer"
      }
    },
    {
      "cell_type": "code",
      "source": [
        "windowSpec = Window.partitionBy('CustomerID').orderBy(F.col('Date'))"
      ],
      "metadata": {
        "id": "oV5KLYAn7FGn"
      },
      "execution_count": null,
      "outputs": []
    },
    {
      "cell_type": "markdown",
      "source": [
        "Creating 3 columns list_price, average_price, total_price. List price contains product price of each partion in chronological order"
      ],
      "metadata": {
        "id": "WslUUlu_y5vg"
      }
    },
    {
      "cell_type": "code",
      "source": [
        "data1 = df.withColumn('list_price', F.collect_list(F.col('market_price')).over(windowSpec)).withColumn('average_price', F.avg(F.col('market_price')) \\\n",
        ".over(windowSpec)).withColumn('total_price', F.sum(F.col('market_price')).over(windowSpec))"
      ],
      "metadata": {
        "id": "qbYc0nmr7FIs"
      },
      "execution_count": null,
      "outputs": []
    },
    {
      "cell_type": "markdown",
      "source": [
        "Converting date column in data1 dataframe from string to date format"
      ],
      "metadata": {
        "id": "Sk6QCEiLzifX"
      }
    },
    {
      "cell_type": "code",
      "source": [
        "data1 = data1.withColumn(\"Date\", F.to_date(F.col(\"Date\"), \"dd-MM-yyyy\"))"
      ],
      "metadata": {
        "id": "9_X_E8Ql7FLG"
      },
      "execution_count": null,
      "outputs": []
    },
    {
      "cell_type": "code",
      "source": [
        "data1.show(10)"
      ],
      "metadata": {
        "colab": {
          "base_uri": "https://localhost:8080/"
        },
        "id": "GfxXnZRr7FNw",
        "outputId": "d87ea46d-e08c-4eb7-a006-87bb2596a8fe"
      },
      "execution_count": 110,
      "outputs": [
        {
          "output_type": "stream",
          "name": "stdout",
          "text": [
            "+----------+-------------+----------+---------+--------------------+------------+--------+----------+--------------------+------------------+-----------+\n",
            "|CustomerID|TransactionNo|      Date|ProductNo|             product|market_price|Quantity|CustomerNo|          list_price|     average_price|total_price|\n",
            "+----------+-------------+----------+---------+--------------------+------------+--------+----------+--------------------+------------------+-----------+\n",
            "|         1|       581482|2021-01-01|    22485|Garlic Oil - Vege...|       220.0|      12|     17490|             [220.0]|             220.0|      220.0|\n",
            "|         2|       581475|2021-01-04|    22596|Water Bottle - Or...|       180.0|      36|     13069|             [180.0]|             180.0|      180.0|\n",
            "|         2|       581475|2021-01-05|    23235|Brass Angle Deep ...|       250.0|      12|     13069|      [180.0, 250.0]|             215.0|      430.0|\n",
            "|         2|       581475|2021-01-06|    23272|Cereal Flip Lid C...|       176.0|      12|     13069|[180.0, 250.0, 17...|             202.0|      606.0|\n",
            "|         2|       581475|2021-01-07|    23239|Creme Soft Soap -...|       162.0|       6|     13069|[180.0, 250.0, 17...|             192.0|      768.0|\n",
            "|         2|       581475|2021-01-08|    21705|Germ - Removal Mu...|       199.0|      24|     13069|[180.0, 250.0, 17...|             193.4|      967.0|\n",
            "|         2|       581475|2021-01-11|    22118|        Multani Mati|        58.0|      18|     13069|[180.0, 250.0, 17...|170.83333333333334|     1025.0|\n",
            "|         2|       581475|2021-01-12|    22119|Hand Sanitizer - ...|       250.0|      12|     13069|[180.0, 250.0, 17...|182.14285714285714|     1275.0|\n",
            "|         2|       581475|2021-01-13|    22217|Biotin & Collagen...|      1098.0|      12|     13069|[180.0, 250.0, 17...|           296.625|     2373.0|\n",
            "|         2|       581475|2021-01-14|    22216|Scrub Pad - Anti-...|        20.0|      24|     13069|[180.0, 250.0, 17...| 265.8888888888889|     2393.0|\n",
            "+----------+-------------+----------+---------+--------------------+------------+--------+----------+--------------------+------------------+-----------+\n",
            "only showing top 10 rows\n",
            "\n"
          ]
        }
      ]
    },
    {
      "cell_type": "markdown",
      "source": [
        "Moving average column represents the moving average of 'average_price' for each 'CustomerID' within the window defined by 'CustomerID' and ordered by 'Date'. The moving average is calculated based on the average of 'average_price' of preceding rows (within the window) for each customer"
      ],
      "metadata": {
        "id": "opETbvgWICVv"
      }
    },
    {
      "cell_type": "code",
      "source": [
        "data2 = data1.withColumn('moving_avg_price', F.avg('average_price').over(windowSpec))"
      ],
      "metadata": {
        "id": "sxOErcocAAWc"
      },
      "execution_count": null,
      "outputs": []
    },
    {
      "cell_type": "markdown",
      "source": [
        "**To determine whether the customer has shifted from higher to lower value products**\n",
        "\n",
        " we are comparing current moving average price with preceding moving average price.If current moving average price < preceding moving average price we are using it means there is Downward Substitution"
      ],
      "metadata": {
        "id": "N5eySD7hSrcH"
      }
    },
    {
      "cell_type": "code",
      "source": [
        "\n",
        "data2 = data2.withColumn('shifted_to_lower_value',\n",
        "                         F.when(F.lag('moving_avg_price').over(windowSpec) > F.col('moving_avg_price'), True)\n",
        "                         .otherwise(False))"
      ],
      "metadata": {
        "id": "ThbOGMjWAAZa"
      },
      "execution_count": null,
      "outputs": []
    },
    {
      "cell_type": "code",
      "source": [
        "# Filter the DataFrame to get customers who have shifted to lower value products\n",
        "result_df = data2.filter((F.col('shifted_to_lower_value') == True))\n"
      ],
      "metadata": {
        "id": "_dfrZ5MSAAb5"
      },
      "execution_count": null,
      "outputs": []
    },
    {
      "cell_type": "code",
      "source": [
        "result_df.show(10)"
      ],
      "metadata": {
        "colab": {
          "base_uri": "https://localhost:8080/"
        },
        "id": "BxFyVJkSAAfb",
        "outputId": "688917a8-2339-4e7e-b9b4-dae1eb4e8f2a"
      },
      "execution_count": null,
      "outputs": [
        {
          "output_type": "stream",
          "name": "stdout",
          "text": [
            "+----------+-------------+----------+---------+--------------------+------------+--------+----------+--------------------+------------------+-----------+------------------+----------------------+\n",
            "|CustomerID|TransactionNo|      Date|ProductNo|             product|market_price|Quantity|CustomerNo|          list_price|     average_price|total_price|  moving_avg_price|shifted_to_lower_value|\n",
            "+----------+-------------+----------+---------+--------------------+------------+--------+----------+--------------------+------------------+-----------+------------------+----------------------+\n",
            "|         2|       581475|2021-01-07|    23239|Creme Soft Soap -...|       162.0|       6|     13069|[180.0, 250.0, 17...|             192.0|      768.0|            197.25|                  true|\n",
            "|         2|       581475|2021-01-08|    21705|Germ - Removal Mu...|       199.0|      24|     13069|[180.0, 250.0, 17...|             193.4|      967.0|            196.48|                  true|\n",
            "|         2|       581475|2021-01-11|    22118|        Multani Mati|        58.0|      18|     13069|[180.0, 250.0, 17...|170.83333333333334|     1025.0|192.20555555555555|                  true|\n",
            "|         2|       581475|2021-01-12|    22119|Hand Sanitizer - ...|       250.0|      12|     13069|[180.0, 250.0, 17...|182.14285714285714|     1275.0|190.76802721088436|                  true|\n",
            "|         3|       581476|2021-02-01|    23197|Instant Noodles -...|        50.0|      24|     12433|              [50.0]|              50.0|       50.0|158.11475409836066|                  true|\n",
            "|         3|       581476|2021-02-24|    22693|Sport Deo Spray -...|       205.0|     192|     12433|[50.0, 360.0, 225...| 259.4807692307692|    13493.0| 260.2493439896589|                  true|\n",
            "|         3|       581476|2021-02-25|    22670|Choco Deck - Mini...|       200.0|      24|     12433|[50.0, 360.0, 225...|257.25925925925924|    13892.0| 260.0998397531389|                  true|\n",
            "|         3|       581476|2021-03-01|    22666|Lemon & Tea Tree ...|       360.0|      24|     12433|       [50.0, 360.0]|             205.0|      410.0|257.73767899636005|                  true|\n",
            "|         3|       581476|2021-03-02|    22631|Flavoured Cream W...|       275.0|      12|     12433|[50.0, 360.0, 225...|             206.0|     1030.0| 255.4882146921705|                  true|\n",
            "|         3|       581476|2021-03-03|    22628|Storage/Lunch Ste...|       299.0|      16|     12433|[50.0, 360.0, 225...|           231.625|     1853.0| 254.4939140799967|                  true|\n",
            "+----------+-------------+----------+---------+--------------------+------------+--------+----------+--------------------+------------------+-----------+------------------+----------------------+\n",
            "only showing top 10 rows\n",
            "\n"
          ]
        }
      ]
    },
    {
      "cell_type": "markdown",
      "source": [
        "Out of total 2000 transaction we ave 570 transactions where we encountered downward substitution"
      ],
      "metadata": {
        "id": "UW7ZpezVTLSH"
      }
    },
    {
      "cell_type": "code",
      "source": [
        "result_df.count()"
      ],
      "metadata": {
        "colab": {
          "base_uri": "https://localhost:8080/"
        },
        "id": "Hqv4M6nj7FQA",
        "outputId": "5e6ca71c-2e69-4d92-bdff-7debcbde6ab5"
      },
      "execution_count": null,
      "outputs": [
        {
          "output_type": "execute_result",
          "data": {
            "text/plain": [
              "570"
            ]
          },
          "metadata": {},
          "execution_count": 20
        }
      ]
    },
    {
      "cell_type": "markdown",
      "source": [
        "counting occurance of downward substitution customers"
      ],
      "metadata": {
        "id": "hIS5LHnSTtfw"
      }
    },
    {
      "cell_type": "code",
      "source": [
        "# Grouping the DataFrame by 'CustomerID' and count the occurrences of each customer\n",
        "result_count_df = result_df.groupBy('CustomerID').agg(F.count(F.lit(1)).alias('Shift_Count'))\n",
        "\n",
        "# Order the result in descending order based on the 'Shift_Count'\n",
        "result_count_df = result_count_df.orderBy(F.desc('Shift_Count'))\n",
        "\n",
        "result_count_df.show(5)"
      ],
      "metadata": {
        "colab": {
          "base_uri": "https://localhost:8080/"
        },
        "id": "Tr1b0olq7FSk",
        "outputId": "21476fd0-2b9c-4e3a-c825-bf8c7a257d5f"
      },
      "execution_count": 111,
      "outputs": [
        {
          "output_type": "stream",
          "name": "stdout",
          "text": [
            "+----------+-----------+\n",
            "|CustomerID|Shift_Count|\n",
            "+----------+-----------+\n",
            "|        25|         80|\n",
            "|        23|         68|\n",
            "|        49|         65|\n",
            "|        17|         52|\n",
            "|        51|         42|\n",
            "+----------+-----------+\n",
            "only showing top 5 rows\n",
            "\n"
          ]
        }
      ]
    },
    {
      "cell_type": "markdown",
      "source": [
        "Out of 55 customers we have 39 downward substitution customers"
      ],
      "metadata": {
        "id": "6-yWGVFfTx16"
      }
    },
    {
      "cell_type": "code",
      "source": [
        "result_count_df.count()"
      ],
      "metadata": {
        "colab": {
          "base_uri": "https://localhost:8080/"
        },
        "id": "wJoiJrgp7FU5",
        "outputId": "ddc70409-007c-4552-d0a8-a658637a5b22"
      },
      "execution_count": null,
      "outputs": [
        {
          "output_type": "execute_result",
          "data": {
            "text/plain": [
              "39"
            ]
          },
          "metadata": {},
          "execution_count": 22
        }
      ]
    },
    {
      "cell_type": "markdown",
      "source": [
        "\n"
      ],
      "metadata": {
        "id": "0lgMwRAP1FC_"
      }
    },
    {
      "cell_type": "code",
      "source": [
        "\n",
        "product_df = spark.read.csv('/content/Product.csv', inferSchema = True , header=True)\n",
        "product_df.show(5)"
      ],
      "metadata": {
        "colab": {
          "base_uri": "https://localhost:8080/"
        },
        "id": "e81pvrFh7FXT",
        "outputId": "3e44cc81-29b8-4a30-86f7-3b01d47d6bbf"
      },
      "execution_count": null,
      "outputs": [
        {
          "output_type": "stream",
          "name": "stdout",
          "text": [
            "+---------+--------------------+--------------------+--------------------+-----------------+------------+------+\n",
            "|ProductNo|            category|        sub_category|             product|            brand|market_price|rating|\n",
            "+---------+--------------------+--------------------+--------------------+-----------------+------------+------+\n",
            "|    22485|    Beauty & Hygiene|           Hair Care|Garlic Oil - Vege...|Sri Sri Ayurveda |       220.0|   4.1|\n",
            "|    22596|Kitchen, Garden &...|Storage & Accesso...|Water Bottle - Or...|       Mastercook|       180.0|   2.3|\n",
            "|    23235|Cleaning & Household|         Pooja Needs|Brass Angle Deep ...|              Trm|       250.0|   3.4|\n",
            "|    23272|Cleaning & Household|Bins & Bathroom Ware|Cereal Flip Lid C...|           Nakoda|       176.0|   3.7|\n",
            "|    23239|    Beauty & Hygiene|    Bath & Hand Wash|Creme Soft Soap -...|            Nivea|       162.0|   4.4|\n",
            "+---------+--------------------+--------------------+--------------------+-----------------+------------+------+\n",
            "only showing top 5 rows\n",
            "\n"
          ]
        }
      ]
    },
    {
      "cell_type": "markdown",
      "source": [
        "To find all the product categories that are showing downward substitution we are going to join the result_df with the product table"
      ],
      "metadata": {
        "id": "jPtqolZzUQkf"
      }
    },
    {
      "cell_type": "code",
      "source": [
        "merged_df = result_df.join(product_df, on='ProductNo', how='inner')\n"
      ],
      "metadata": {
        "id": "Ha7_xfYs7FaJ"
      },
      "execution_count": null,
      "outputs": []
    },
    {
      "cell_type": "code",
      "source": [
        "merged_df.show(5)"
      ],
      "metadata": {
        "colab": {
          "base_uri": "https://localhost:8080/"
        },
        "id": "RWLfsdUR7Fc2",
        "outputId": "528b36fe-fb94-4413-ce85-91c259eca55f"
      },
      "execution_count": null,
      "outputs": [
        {
          "output_type": "stream",
          "name": "stdout",
          "text": [
            "+---------+----------+-------------+----------+--------------------+------------+--------+----------+--------------------+------------------+-----------+------------------+----------------------+--------------------+--------------------+--------------------+--------------+------------+------+\n",
            "|ProductNo|CustomerID|TransactionNo|      Date|             product|market_price|Quantity|CustomerNo|          list_price|     average_price|total_price|  moving_avg_price|shifted_to_lower_value|            category|        sub_category|             product|         brand|market_price|rating|\n",
            "+---------+----------+-------------+----------+--------------------+------------+--------+----------+--------------------+------------------+-----------+------------------+----------------------+--------------------+--------------------+--------------------+--------------+------------+------+\n",
            "|    23239|         2|       581475|2021-01-07|Creme Soft Soap -...|       162.0|       6|     13069|[180.0, 250.0, 17...|             192.0|      768.0|            197.25|                  true|    Beauty & Hygiene|    Bath & Hand Wash|Creme Soft Soap -...|         Nivea|       162.0|   4.4|\n",
            "|    21705|         2|       581475|2021-01-08|Germ - Removal Mu...|       199.0|      24|     13069|[180.0, 250.0, 17...|             193.4|      967.0|            196.48|                  true|Cleaning & Household|All Purpose Cleaners|Germ - Removal Mu...|Nature Protect|       199.0|   3.3|\n",
            "|    22118|         2|       581475|2021-01-11|        Multani Mati|        58.0|      18|     13069|[180.0, 250.0, 17...|170.83333333333334|     1025.0|192.20555555555555|                  true|    Beauty & Hygiene|           Skin Care|        Multani Mati|     Satinance|        58.0|   3.6|\n",
            "|    22119|         2|       581475|2021-01-12|Hand Sanitizer - ...|       250.0|      12|     13069|[180.0, 250.0, 17...|182.14285714285714|     1275.0|190.76802721088436|                  true|    Beauty & Hygiene|    Bath & Hand Wash|Hand Sanitizer - ...|       Bionova|       250.0|   4.0|\n",
            "|    22442|        25|       581501|2021-11-03|Plastic Beaute St...|        65.0|      12|     12985|[790.0, 175.0, 62...|             322.6|     4839.0| 358.9418629293531|                  true|Gourmet & World Food|Chocolates & Bisc...|Butter Cookies Go...|      Sapphire|       600.0|   2.2|\n",
            "+---------+----------+-------------+----------+--------------------+------------+--------+----------+--------------------+------------------+-----------+------------------+----------------------+--------------------+--------------------+--------------------+--------------+------------+------+\n",
            "only showing top 5 rows\n",
            "\n"
          ]
        }
      ]
    },
    {
      "cell_type": "markdown",
      "source": [
        "Counting categories which have shown downward substitution"
      ],
      "metadata": {
        "id": "tuJzjb-bUapu"
      }
    },
    {
      "cell_type": "code",
      "source": [
        "# Grouping by 'product_category' and counting the occurrences\n",
        "category_counts = merged_df.groupBy('category').count()\n"
      ],
      "metadata": {
        "id": "v-OwveYZ7FfK"
      },
      "execution_count": null,
      "outputs": []
    },
    {
      "cell_type": "code",
      "source": [
        "category_counts.count()"
      ],
      "metadata": {
        "colab": {
          "base_uri": "https://localhost:8080/"
        },
        "id": "T5Pss-WyCIaO",
        "outputId": "4f483112-2db4-4aa9-c92f-a4f7ed8afdeb"
      },
      "execution_count": null,
      "outputs": [
        {
          "output_type": "execute_result",
          "data": {
            "text/plain": [
              "11"
            ]
          },
          "metadata": {},
          "execution_count": 27
        }
      ]
    },
    {
      "cell_type": "markdown",
      "source": [
        "Arranged the categories which shown maximum downward substitution in descending order"
      ],
      "metadata": {
        "id": "c-U8j0MSUkfG"
      }
    },
    {
      "cell_type": "code",
      "source": [
        "category_counts = category_counts.orderBy(F.desc('count'))\n",
        "category_counts.show()"
      ],
      "metadata": {
        "colab": {
          "base_uri": "https://localhost:8080/"
        },
        "id": "oMdwYjZeCIcv",
        "outputId": "162a9c5c-ce65-4972-9b31-2302e5d89aea"
      },
      "execution_count": null,
      "outputs": [
        {
          "output_type": "stream",
          "name": "stdout",
          "text": [
            "+--------------------+-----+\n",
            "|            category|count|\n",
            "+--------------------+-----+\n",
            "|    Beauty & Hygiene|  377|\n",
            "|Gourmet & World Food|  259|\n",
            "|Foodgrains, Oil &...|  171|\n",
            "|Kitchen, Garden &...|  165|\n",
            "|Snacks & Branded ...|  146|\n",
            "|Cleaning & Household|  137|\n",
            "|Bakery, Cakes & D...|   51|\n",
            "| Fruits & Vegetables|   35|\n",
            "|           Beverages|   30|\n",
            "|   Eggs, Meat & Fish|   28|\n",
            "|           Baby Care|   21|\n",
            "+--------------------+-----+\n",
            "\n"
          ]
        }
      ]
    },
    {
      "cell_type": "markdown",
      "source": [
        "reading customer table."
      ],
      "metadata": {
        "id": "K07kIqg0U2kP"
      }
    },
    {
      "cell_type": "code",
      "source": [
        "customer_df = spark.read.csv('/content/Customers.csv', inferSchema = True , header=True)"
      ],
      "metadata": {
        "id": "2UNGN6UbCIfP"
      },
      "execution_count": null,
      "outputs": []
    },
    {
      "cell_type": "code",
      "source": [
        "customer_df.show(5)"
      ],
      "metadata": {
        "colab": {
          "base_uri": "https://localhost:8080/"
        },
        "id": "5SBPOJQsCIh0",
        "outputId": "c9471160-77d9-4a1b-949d-db1132adcf05"
      },
      "execution_count": null,
      "outputs": [
        {
          "output_type": "stream",
          "name": "stdout",
          "text": [
            "+----------+----------+------+---+-------------+---------------+-----------+-------------+------+\n",
            "|CustomerID|      Name|Gender|Age|   Profession|Work Experience|Family Size|Annual Income|  City|\n",
            "+----------+----------+------+---+-------------+---------------+-----------+-------------+------+\n",
            "|         1|Muhammad+1|  Male| 19|   Healthcare|              1|          4|? 5,43,000.00|Mumbai|\n",
            "|         2|       Sai|  Male| 21|     Engineer|              3|          3|? 6,74,000.00|Mumbai|\n",
            "|         3|     Advik|Female| 20|     Engineer|              1|          1|? 8,25,000.00|Nagpur|\n",
            "|         4|     Rudra|Female| 23|       Lawyer|              0|          2|? 5,12,000.00|  Pune|\n",
            "|         5|   Aayansh|Female| 31|Entertainment|              2|          6|? 7,25,000.00|  Pune|\n",
            "+----------+----------+------+---+-------------+---------------+-----------+-------------+------+\n",
            "only showing top 5 rows\n",
            "\n"
          ]
        }
      ]
    },
    {
      "cell_type": "markdown",
      "source": [
        "Inner joining result_df and customer table to get the details of all the customers who have shown downward substitution"
      ],
      "metadata": {
        "id": "SBgPa2uWU6sI"
      }
    },
    {
      "cell_type": "code",
      "source": [
        "merged_df2 = result_df.join(customer_df, on='CustomerID', how='inner')"
      ],
      "metadata": {
        "id": "hdk3L_yiCIkd"
      },
      "execution_count": null,
      "outputs": []
    },
    {
      "cell_type": "code",
      "source": [
        "merged_df2.show(5)"
      ],
      "metadata": {
        "colab": {
          "base_uri": "https://localhost:8080/"
        },
        "id": "ImHMAh7QCInB",
        "outputId": "da7bffc6-2a4b-4c9e-bc85-663d2bb36da3"
      },
      "execution_count": null,
      "outputs": [
        {
          "output_type": "stream",
          "name": "stdout",
          "text": [
            "+----------+-------------+----------+---------+--------------------+------------+--------+----------+--------------------+------------------+-----------+------------------+----------------------+-----+------+---+----------+---------------+-----------+-------------+------+\n",
            "|CustomerID|TransactionNo|      Date|ProductNo|             product|market_price|Quantity|CustomerNo|          list_price|     average_price|total_price|  moving_avg_price|shifted_to_lower_value| Name|Gender|Age|Profession|Work Experience|Family Size|Annual Income|  City|\n",
            "+----------+-------------+----------+---------+--------------------+------------+--------+----------+--------------------+------------------+-----------+------------------+----------------------+-----+------+---+----------+---------------+-----------+-------------+------+\n",
            "|         2|       581475|2021-01-07|    23239|Creme Soft Soap -...|       162.0|       6|     13069|[180.0, 250.0, 17...|             192.0|      768.0|            197.25|                  true|  Sai|  Male| 21|  Engineer|              3|          3|? 6,74,000.00|Mumbai|\n",
            "|         2|       581475|2021-01-08|    21705|Germ - Removal Mu...|       199.0|      24|     13069|[180.0, 250.0, 17...|             193.4|      967.0|            196.48|                  true|  Sai|  Male| 21|  Engineer|              3|          3|? 6,74,000.00|Mumbai|\n",
            "|         2|       581475|2021-01-11|    22118|        Multani Mati|        58.0|      18|     13069|[180.0, 250.0, 17...|170.83333333333334|     1025.0|192.20555555555555|                  true|  Sai|  Male| 21|  Engineer|              3|          3|? 6,74,000.00|Mumbai|\n",
            "|         2|       581475|2021-01-12|    22119|Hand Sanitizer - ...|       250.0|      12|     13069|[180.0, 250.0, 17...|182.14285714285714|     1275.0|190.76802721088436|                  true|  Sai|  Male| 21|  Engineer|              3|          3|? 6,74,000.00|Mumbai|\n",
            "|         3|       581476|2021-02-01|    23197|Instant Noodles -...|        50.0|      24|     12433|              [50.0]|              50.0|       50.0|158.11475409836066|                  true|Advik|Female| 20|  Engineer|              1|          1|? 8,25,000.00|Nagpur|\n",
            "+----------+-------------+----------+---------+--------------------+------------+--------+----------+--------------------+------------------+-----------+------------------+----------------------+-----+------+---+----------+---------------+-----------+-------------+------+\n",
            "only showing top 5 rows\n",
            "\n"
          ]
        }
      ]
    },
    {
      "cell_type": "code",
      "source": [
        "unique_customer_ids = merged_df2.select('CustomerID').distinct()"
      ],
      "metadata": {
        "id": "fUdFlRFpCIpb"
      },
      "execution_count": null,
      "outputs": []
    },
    {
      "cell_type": "code",
      "source": [
        "# Out of 55 Customers 39 Customers Showed Downward Substitution\n",
        "unique_customer_ids.count()"
      ],
      "metadata": {
        "colab": {
          "base_uri": "https://localhost:8080/"
        },
        "id": "AgRq2mVcCIrd",
        "outputId": "9987b66b-9b77-4dd7-9afd-86393fe49434"
      },
      "execution_count": null,
      "outputs": [
        {
          "output_type": "execute_result",
          "data": {
            "text/plain": [
              "39"
            ]
          },
          "metadata": {},
          "execution_count": 34
        }
      ]
    },
    {
      "cell_type": "markdown",
      "source": [
        "Perform an inner join on 'CustomerID' column between customer table and unique_customer_ids"
      ],
      "metadata": {
        "id": "IWnhoVj_1-5m"
      }
    },
    {
      "cell_type": "code",
      "source": [
        "\n",
        "joined_df = customer_df.join(unique_customer_ids, on='CustomerID', how='inner')\n",
        "\n",
        "\n",
        "joined_df.show(5)"
      ],
      "metadata": {
        "colab": {
          "base_uri": "https://localhost:8080/"
        },
        "id": "fpO-KlmkCIux",
        "outputId": "5954ac9a-2938-433a-c08a-b9a83e813e71"
      },
      "execution_count": null,
      "outputs": [
        {
          "output_type": "stream",
          "name": "stdout",
          "text": [
            "+----------+-------+------+---+-------------+---------------+-----------+-------------+------+\n",
            "|CustomerID|   Name|Gender|Age|   Profession|Work Experience|Family Size|Annual Income|  City|\n",
            "+----------+-------+------+---+-------------+---------------+-----------+-------------+------+\n",
            "|         2|    Sai|  Male| 21|     Engineer|              3|          3|? 6,74,000.00|Mumbai|\n",
            "|         3|  Advik|Female| 20|     Engineer|              1|          1|? 8,25,000.00|Nagpur|\n",
            "|         4|  Rudra|Female| 23|       Lawyer|              0|          2|? 5,12,000.00|  Pune|\n",
            "|         5|Aayansh|Female| 31|Entertainment|              2|          6|? 7,25,000.00|  Pune|\n",
            "|         8|   Veer|Female| 23|   Healthcare|              1|          3|? 7,89,000.00|  Pune|\n",
            "+----------+-------+------+---+-------------+---------------+-----------+-------------+------+\n",
            "only showing top 5 rows\n",
            "\n"
          ]
        }
      ]
    },
    {
      "cell_type": "markdown",
      "source": [
        "For plotting the graphs I'm using Pandas to convert pyspark dataframe to pandas data frame"
      ],
      "metadata": {
        "id": "H8rRvfrSV1VX"
      }
    },
    {
      "cell_type": "code",
      "source": [
        "import pandas as pd\n",
        "import matplotlib.pyplot as plt"
      ],
      "metadata": {
        "id": "bgJuL2JuCtHu"
      },
      "execution_count": null,
      "outputs": []
    },
    {
      "cell_type": "code",
      "source": [
        "pd_category_counts = category_counts.toPandas()"
      ],
      "metadata": {
        "id": "OEYhg2eZCtKV"
      },
      "execution_count": null,
      "outputs": []
    },
    {
      "cell_type": "code",
      "source": [
        "pd_category_counts.head(3)"
      ],
      "metadata": {
        "colab": {
          "base_uri": "https://localhost:8080/",
          "height": 143
        },
        "id": "XferbAALCtNA",
        "outputId": "dd2f1d7c-8ef4-476b-bbb3-7a2fd03be83c"
      },
      "execution_count": null,
      "outputs": [
        {
          "output_type": "execute_result",
          "data": {
            "text/plain": [
              "                   category  count\n",
              "0          Beauty & Hygiene    377\n",
              "1      Gourmet & World Food    259\n",
              "2  Foodgrains, Oil & Masala    171"
            ],
            "text/html": [
              "\n",
              "  <div id=\"df-1845a3c9-ab20-4c52-a6ec-8dbfb45b8644\">\n",
              "    <div class=\"colab-df-container\">\n",
              "      <div>\n",
              "<style scoped>\n",
              "    .dataframe tbody tr th:only-of-type {\n",
              "        vertical-align: middle;\n",
              "    }\n",
              "\n",
              "    .dataframe tbody tr th {\n",
              "        vertical-align: top;\n",
              "    }\n",
              "\n",
              "    .dataframe thead th {\n",
              "        text-align: right;\n",
              "    }\n",
              "</style>\n",
              "<table border=\"1\" class=\"dataframe\">\n",
              "  <thead>\n",
              "    <tr style=\"text-align: right;\">\n",
              "      <th></th>\n",
              "      <th>category</th>\n",
              "      <th>count</th>\n",
              "    </tr>\n",
              "  </thead>\n",
              "  <tbody>\n",
              "    <tr>\n",
              "      <th>0</th>\n",
              "      <td>Beauty &amp; Hygiene</td>\n",
              "      <td>377</td>\n",
              "    </tr>\n",
              "    <tr>\n",
              "      <th>1</th>\n",
              "      <td>Gourmet &amp; World Food</td>\n",
              "      <td>259</td>\n",
              "    </tr>\n",
              "    <tr>\n",
              "      <th>2</th>\n",
              "      <td>Foodgrains, Oil &amp; Masala</td>\n",
              "      <td>171</td>\n",
              "    </tr>\n",
              "  </tbody>\n",
              "</table>\n",
              "</div>\n",
              "      <button class=\"colab-df-convert\" onclick=\"convertToInteractive('df-1845a3c9-ab20-4c52-a6ec-8dbfb45b8644')\"\n",
              "              title=\"Convert this dataframe to an interactive table.\"\n",
              "              style=\"display:none;\">\n",
              "        \n",
              "  <svg xmlns=\"http://www.w3.org/2000/svg\" height=\"24px\"viewBox=\"0 0 24 24\"\n",
              "       width=\"24px\">\n",
              "    <path d=\"M0 0h24v24H0V0z\" fill=\"none\"/>\n",
              "    <path d=\"M18.56 5.44l.94 2.06.94-2.06 2.06-.94-2.06-.94-.94-2.06-.94 2.06-2.06.94zm-11 1L8.5 8.5l.94-2.06 2.06-.94-2.06-.94L8.5 2.5l-.94 2.06-2.06.94zm10 10l.94 2.06.94-2.06 2.06-.94-2.06-.94-.94-2.06-.94 2.06-2.06.94z\"/><path d=\"M17.41 7.96l-1.37-1.37c-.4-.4-.92-.59-1.43-.59-.52 0-1.04.2-1.43.59L10.3 9.45l-7.72 7.72c-.78.78-.78 2.05 0 2.83L4 21.41c.39.39.9.59 1.41.59.51 0 1.02-.2 1.41-.59l7.78-7.78 2.81-2.81c.8-.78.8-2.07 0-2.86zM5.41 20L4 18.59l7.72-7.72 1.47 1.35L5.41 20z\"/>\n",
              "  </svg>\n",
              "      </button>\n",
              "      \n",
              "  <style>\n",
              "    .colab-df-container {\n",
              "      display:flex;\n",
              "      flex-wrap:wrap;\n",
              "      gap: 12px;\n",
              "    }\n",
              "\n",
              "    .colab-df-convert {\n",
              "      background-color: #E8F0FE;\n",
              "      border: none;\n",
              "      border-radius: 50%;\n",
              "      cursor: pointer;\n",
              "      display: none;\n",
              "      fill: #1967D2;\n",
              "      height: 32px;\n",
              "      padding: 0 0 0 0;\n",
              "      width: 32px;\n",
              "    }\n",
              "\n",
              "    .colab-df-convert:hover {\n",
              "      background-color: #E2EBFA;\n",
              "      box-shadow: 0px 1px 2px rgba(60, 64, 67, 0.3), 0px 1px 3px 1px rgba(60, 64, 67, 0.15);\n",
              "      fill: #174EA6;\n",
              "    }\n",
              "\n",
              "    [theme=dark] .colab-df-convert {\n",
              "      background-color: #3B4455;\n",
              "      fill: #D2E3FC;\n",
              "    }\n",
              "\n",
              "    [theme=dark] .colab-df-convert:hover {\n",
              "      background-color: #434B5C;\n",
              "      box-shadow: 0px 1px 3px 1px rgba(0, 0, 0, 0.15);\n",
              "      filter: drop-shadow(0px 1px 2px rgba(0, 0, 0, 0.3));\n",
              "      fill: #FFFFFF;\n",
              "    }\n",
              "  </style>\n",
              "\n",
              "      <script>\n",
              "        const buttonEl =\n",
              "          document.querySelector('#df-1845a3c9-ab20-4c52-a6ec-8dbfb45b8644 button.colab-df-convert');\n",
              "        buttonEl.style.display =\n",
              "          google.colab.kernel.accessAllowed ? 'block' : 'none';\n",
              "\n",
              "        async function convertToInteractive(key) {\n",
              "          const element = document.querySelector('#df-1845a3c9-ab20-4c52-a6ec-8dbfb45b8644');\n",
              "          const dataTable =\n",
              "            await google.colab.kernel.invokeFunction('convertToInteractive',\n",
              "                                                     [key], {});\n",
              "          if (!dataTable) return;\n",
              "\n",
              "          const docLinkHtml = 'Like what you see? Visit the ' +\n",
              "            '<a target=\"_blank\" href=https://colab.research.google.com/notebooks/data_table.ipynb>data table notebook</a>'\n",
              "            + ' to learn more about interactive tables.';\n",
              "          element.innerHTML = '';\n",
              "          dataTable['output_type'] = 'display_data';\n",
              "          await google.colab.output.renderOutput(dataTable, element);\n",
              "          const docLink = document.createElement('div');\n",
              "          docLink.innerHTML = docLinkHtml;\n",
              "          element.appendChild(docLink);\n",
              "        }\n",
              "      </script>\n",
              "    </div>\n",
              "  </div>\n",
              "  "
            ]
          },
          "metadata": {},
          "execution_count": 40
        }
      ]
    },
    {
      "cell_type": "markdown",
      "source": [],
      "metadata": {
        "id": "F54qLvrvsaqU"
      }
    },
    {
      "cell_type": "code",
      "source": [
        "plt.pie(pd_category_counts['count'],labels = pd_category_counts['category'],autopct = '%0.1f%%', shadow=True )\n",
        "plt.show()"
      ],
      "metadata": {
        "colab": {
          "base_uri": "https://localhost:8080/",
          "height": 406
        },
        "id": "Ptrx4etxCtPl",
        "outputId": "e4c07ada-9b10-47e9-d2af-6bd2fc2b40bc"
      },
      "execution_count": null,
      "outputs": [
        {
          "output_type": "display_data",
          "data": {
            "text/plain": [
              "<Figure size 640x480 with 1 Axes>"
            ],
            "image/png": "[encoded data removed]"
          },
          "metadata": {}
        }
      ]
    },
    {
      "cell_type": "markdown",
      "source": [
        "**Above chart shows Downwards Substitution per Category**"
      ],
      "metadata": {
        "id": "LF7rmFTSr_p_"
      }
    },
    {
      "cell_type": "code",
      "source": [
        "pd_merged_df = merged_df.toPandas()\n",
        "pd_merged_df.head(2)"
      ],
      "metadata": {
        "colab": {
          "base_uri": "https://localhost:8080/",
          "height": 297
        },
        "id": "FYA6APhXe896",
        "outputId": "5472a7ab-d1d8-41ba-934d-5bf2aef71327"
      },
      "execution_count": null,
      "outputs": [
        {
          "output_type": "execute_result",
          "data": {
            "text/plain": [
              "  ProductNo  CustomerID TransactionNo        Date  \\\n",
              "0     23239           2        581475  2021-01-07   \n",
              "1     21705           2        581475  2021-01-08   \n",
              "\n",
              "                              product  market_price  Quantity  CustomerNo  \\\n",
              "0  Creme Soft Soap - For Hands & Body         162.0         6       13069   \n",
              "1   Germ - Removal Multipurpose Wipes         199.0        24       13069   \n",
              "\n",
              "                            list_price  average_price  total_price  \\\n",
              "0         [180.0, 250.0, 176.0, 162.0]          192.0        768.0   \n",
              "1  [180.0, 250.0, 176.0, 162.0, 199.0]          193.4        967.0   \n",
              "\n",
              "   moving_avg_price  shifted_to_lower_value              category  \\\n",
              "0            197.25                    True      Beauty & Hygiene   \n",
              "1            196.48                    True  Cleaning & Household   \n",
              "\n",
              "           sub_category                             product           brand  \\\n",
              "0      Bath & Hand Wash  Creme Soft Soap - For Hands & Body           Nivea   \n",
              "1  All Purpose Cleaners   Germ - Removal Multipurpose Wipes  Nature Protect   \n",
              "\n",
              "   market_price  rating  \n",
              "0         162.0     4.4  \n",
              "1         199.0     3.3  "
            ],
            "text/html": [
              "\n",
              "  <div id=\"df-79e5c394-dd12-42d3-8f40-78cc1bdb8c21\">\n",
              "    <div class=\"colab-df-container\">\n",
              "      <div>\n",
              "<style scoped>\n",
              "    .dataframe tbody tr th:only-of-type {\n",
              "        vertical-align: middle;\n",
              "    }\n",
              "\n",
              "    .dataframe tbody tr th {\n",
              "        vertical-align: top;\n",
              "    }\n",
              "\n",
              "    .dataframe thead th {\n",
              "        text-align: right;\n",
              "    }\n",
              "</style>\n",
              "<table border=\"1\" class=\"dataframe\">\n",
              "  <thead>\n",
              "    <tr style=\"text-align: right;\">\n",
              "      <th></th>\n",
              "      <th>ProductNo</th>\n",
              "      <th>CustomerID</th>\n",
              "      <th>TransactionNo</th>\n",
              "      <th>Date</th>\n",
              "      <th>product</th>\n",
              "      <th>market_price</th>\n",
              "      <th>Quantity</th>\n",
              "      <th>CustomerNo</th>\n",
              "      <th>list_price</th>\n",
              "      <th>average_price</th>\n",
              "      <th>total_price</th>\n",
              "      <th>moving_avg_price</th>\n",
              "      <th>shifted_to_lower_value</th>\n",
              "      <th>category</th>\n",
              "      <th>sub_category</th>\n",
              "      <th>product</th>\n",
              "      <th>brand</th>\n",
              "      <th>market_price</th>\n",
              "      <th>rating</th>\n",
              "    </tr>\n",
              "  </thead>\n",
              "  <tbody>\n",
              "    <tr>\n",
              "      <th>0</th>\n",
              "      <td>23239</td>\n",
              "      <td>2</td>\n",
              "      <td>581475</td>\n",
              "      <td>2021-01-07</td>\n",
              "      <td>Creme Soft Soap - For Hands &amp; Body</td>\n",
              "      <td>162.0</td>\n",
              "      <td>6</td>\n",
              "      <td>13069</td>\n",
              "      <td>[180.0, 250.0, 176.0, 162.0]</td>\n",
              "      <td>192.0</td>\n",
              "      <td>768.0</td>\n",
              "      <td>197.25</td>\n",
              "      <td>True</td>\n",
              "      <td>Beauty &amp; Hygiene</td>\n",
              "      <td>Bath &amp; Hand Wash</td>\n",
              "      <td>Creme Soft Soap - For Hands &amp; Body</td>\n",
              "      <td>Nivea</td>\n",
              "      <td>162.0</td>\n",
              "      <td>4.4</td>\n",
              "    </tr>\n",
              "    <tr>\n",
              "      <th>1</th>\n",
              "      <td>21705</td>\n",
              "      <td>2</td>\n",
              "      <td>581475</td>\n",
              "      <td>2021-01-08</td>\n",
              "      <td>Germ - Removal Multipurpose Wipes</td>\n",
              "      <td>199.0</td>\n",
              "      <td>24</td>\n",
              "      <td>13069</td>\n",
              "      <td>[180.0, 250.0, 176.0, 162.0, 199.0]</td>\n",
              "      <td>193.4</td>\n",
              "      <td>967.0</td>\n",
              "      <td>196.48</td>\n",
              "      <td>True</td>\n",
              "      <td>Cleaning &amp; Household</td>\n",
              "      <td>All Purpose Cleaners</td>\n",
              "      <td>Germ - Removal Multipurpose Wipes</td>\n",
              "      <td>Nature Protect</td>\n",
              "      <td>199.0</td>\n",
              "      <td>3.3</td>\n",
              "    </tr>\n",
              "  </tbody>\n",
              "</table>\n",
              "</div>\n",
              "      <button class=\"colab-df-convert\" onclick=\"convertToInteractive('df-79e5c394-dd12-42d3-8f40-78cc1bdb8c21')\"\n",
              "              title=\"Convert this dataframe to an interactive table.\"\n",
              "              style=\"display:none;\">\n",
              "        \n",
              "  <svg xmlns=\"http://www.w3.org/2000/svg\" height=\"24px\"viewBox=\"0 0 24 24\"\n",
              "       width=\"24px\">\n",
              "    <path d=\"M0 0h24v24H0V0z\" fill=\"none\"/>\n",
              "    <path d=\"M18.56 5.44l.94 2.06.94-2.06 2.06-.94-2.06-.94-.94-2.06-.94 2.06-2.06.94zm-11 1L8.5 8.5l.94-2.06 2.06-.94-2.06-.94L8.5 2.5l-.94 2.06-2.06.94zm10 10l.94 2.06.94-2.06 2.06-.94-2.06-.94-.94-2.06-.94 2.06-2.06.94z\"/><path d=\"M17.41 7.96l-1.37-1.37c-.4-.4-.92-.59-1.43-.59-.52 0-1.04.2-1.43.59L10.3 9.45l-7.72 7.72c-.78.78-.78 2.05 0 2.83L4 21.41c.39.39.9.59 1.41.59.51 0 1.02-.2 1.41-.59l7.78-7.78 2.81-2.81c.8-.78.8-2.07 0-2.86zM5.41 20L4 18.59l7.72-7.72 1.47 1.35L5.41 20z\"/>\n",
              "  </svg>\n",
              "      </button>\n",
              "      \n",
              "  <style>\n",
              "    .colab-df-container {\n",
              "      display:flex;\n",
              "      flex-wrap:wrap;\n",
              "      gap: 12px;\n",
              "    }\n",
              "\n",
              "    .colab-df-convert {\n",
              "      background-color: #E8F0FE;\n",
              "      border: none;\n",
              "      border-radius: 50%;\n",
              "      cursor: pointer;\n",
              "      display: none;\n",
              "      fill: #1967D2;\n",
              "      height: 32px;\n",
              "      padding: 0 0 0 0;\n",
              "      width: 32px;\n",
              "    }\n",
              "\n",
              "    .colab-df-convert:hover {\n",
              "      background-color: #E2EBFA;\n",
              "      box-shadow: 0px 1px 2px rgba(60, 64, 67, 0.3), 0px 1px 3px 1px rgba(60, 64, 67, 0.15);\n",
              "      fill: #174EA6;\n",
              "    }\n",
              "\n",
              "    [theme=dark] .colab-df-convert {\n",
              "      background-color: #3B4455;\n",
              "      fill: #D2E3FC;\n",
              "    }\n",
              "\n",
              "    [theme=dark] .colab-df-convert:hover {\n",
              "      background-color: #434B5C;\n",
              "      box-shadow: 0px 1px 3px 1px rgba(0, 0, 0, 0.15);\n",
              "      filter: drop-shadow(0px 1px 2px rgba(0, 0, 0, 0.3));\n",
              "      fill: #FFFFFF;\n",
              "    }\n",
              "  </style>\n",
              "\n",
              "      <script>\n",
              "        const buttonEl =\n",
              "          document.querySelector('#df-79e5c394-dd12-42d3-8f40-78cc1bdb8c21 button.colab-df-convert');\n",
              "        buttonEl.style.display =\n",
              "          google.colab.kernel.accessAllowed ? 'block' : 'none';\n",
              "\n",
              "        async function convertToInteractive(key) {\n",
              "          const element = document.querySelector('#df-79e5c394-dd12-42d3-8f40-78cc1bdb8c21');\n",
              "          const dataTable =\n",
              "            await google.colab.kernel.invokeFunction('convertToInteractive',\n",
              "                                                     [key], {});\n",
              "          if (!dataTable) return;\n",
              "\n",
              "          const docLinkHtml = 'Like what you see? Visit the ' +\n",
              "            '<a target=\"_blank\" href=https://colab.research.google.com/notebooks/data_table.ipynb>data table notebook</a>'\n",
              "            + ' to learn more about interactive tables.';\n",
              "          element.innerHTML = '';\n",
              "          dataTable['output_type'] = 'display_data';\n",
              "          await google.colab.output.renderOutput(dataTable, element);\n",
              "          const docLink = document.createElement('div');\n",
              "          docLink.innerHTML = docLinkHtml;\n",
              "          element.appendChild(docLink);\n",
              "        }\n",
              "      </script>\n",
              "    </div>\n",
              "  </div>\n",
              "  "
            ]
          },
          "metadata": {},
          "execution_count": 57
        }
      ]
    },
    {
      "cell_type": "markdown",
      "source": [
        "**Top 10 brands that where people showed downward substitution**\n"
      ],
      "metadata": {
        "id": "wnpwPwoCg55o"
      }
    },
    {
      "cell_type": "code",
      "source": [
        "top_brands = pd_merged_df['brand'].value_counts(ascending = False).head(10)\n",
        "plt.barh(top_brands.index, top_brands.values)\n",
        "\n",
        "plt.xlabel('Counts')\n",
        "plt.ylabel('Brand')\n",
        "plt.title('Top 10 Brands')\n",
        "\n",
        "\n",
        "\n",
        "plt.show()"
      ],
      "metadata": {
        "colab": {
          "base_uri": "https://localhost:8080/",
          "height": 472
        },
        "id": "2oINEKRGe9BQ",
        "outputId": "9d9d4943-2646-4f50-9315-2e92c86bde90"
      },
      "execution_count": null,
      "outputs": [
        {
          "output_type": "display_data",
          "data": {
            "text/plain": [
              "<Figure size 640x480 with 1 Axes>"
            ],
            "image/png": "[encoded data removed]"
          },
          "metadata": {}
        }
      ]
    },
    {
      "cell_type": "markdown",
      "source": [
        "**Top 10 Brands where people showed less interest**"
      ],
      "metadata": {
        "id": "6Po2bRy6sif3"
      }
    },
    {
      "cell_type": "code",
      "source": [
        "type(joined_df)"
      ],
      "metadata": {
        "colab": {
          "base_uri": "https://localhost:8080/"
        },
        "id": "wrjfSVnzbPOB",
        "outputId": "896ccea7-c88c-408d-bdf0-b225b9ce7b43"
      },
      "execution_count": null,
      "outputs": [
        {
          "output_type": "execute_result",
          "data": {
            "text/plain": [
              "pyspark.sql.dataframe.DataFrame"
            ]
          },
          "metadata": {},
          "execution_count": 50
        }
      ]
    },
    {
      "cell_type": "code",
      "source": [
        "pd_joined_df = joined_df.toPandas()\n",
        "pd_joined_df.head(3)"
      ],
      "metadata": {
        "colab": {
          "base_uri": "https://localhost:8080/",
          "height": 143
        },
        "id": "PWoXtVebCtTC",
        "outputId": "fbd96699-f050-479a-a333-0a99bcc0027c"
      },
      "execution_count": null,
      "outputs": [
        {
          "output_type": "execute_result",
          "data": {
            "text/plain": [
              "   CustomerID   Name  Gender  Age Profession  Work Experience  Family Size  \\\n",
              "0           2    Sai    Male   21   Engineer                3            3   \n",
              "1           3  Advik  Female   20   Engineer                1            1   \n",
              "2           4  Rudra  Female   23     Lawyer                0            2   \n",
              "\n",
              "   Annual Income    City  \n",
              "0  ? 6,74,000.00  Mumbai  \n",
              "1  ? 8,25,000.00  Nagpur  \n",
              "2  ? 5,12,000.00    Pune  "
            ],
            "text/html": [
              "\n",
              "  <div id=\"df-d79558fb-e48f-4f0f-b63f-afde3a25a0b2\">\n",
              "    <div class=\"colab-df-container\">\n",
              "      <div>\n",
              "<style scoped>\n",
              "    .dataframe tbody tr th:only-of-type {\n",
              "        vertical-align: middle;\n",
              "    }\n",
              "\n",
              "    .dataframe tbody tr th {\n",
              "        vertical-align: top;\n",
              "    }\n",
              "\n",
              "    .dataframe thead th {\n",
              "        text-align: right;\n",
              "    }\n",
              "</style>\n",
              "<table border=\"1\" class=\"dataframe\">\n",
              "  <thead>\n",
              "    <tr style=\"text-align: right;\">\n",
              "      <th></th>\n",
              "      <th>CustomerID</th>\n",
              "      <th>Name</th>\n",
              "      <th>Gender</th>\n",
              "      <th>Age</th>\n",
              "      <th>Profession</th>\n",
              "      <th>Work Experience</th>\n",
              "      <th>Family Size</th>\n",
              "      <th>Annual Income</th>\n",
              "      <th>City</th>\n",
              "    </tr>\n",
              "  </thead>\n",
              "  <tbody>\n",
              "    <tr>\n",
              "      <th>0</th>\n",
              "      <td>2</td>\n",
              "      <td>Sai</td>\n",
              "      <td>Male</td>\n",
              "      <td>21</td>\n",
              "      <td>Engineer</td>\n",
              "      <td>3</td>\n",
              "      <td>3</td>\n",
              "      <td>? 6,74,000.00</td>\n",
              "      <td>Mumbai</td>\n",
              "    </tr>\n",
              "    <tr>\n",
              "      <th>1</th>\n",
              "      <td>3</td>\n",
              "      <td>Advik</td>\n",
              "      <td>Female</td>\n",
              "      <td>20</td>\n",
              "      <td>Engineer</td>\n",
              "      <td>1</td>\n",
              "      <td>1</td>\n",
              "      <td>? 8,25,000.00</td>\n",
              "      <td>Nagpur</td>\n",
              "    </tr>\n",
              "    <tr>\n",
              "      <th>2</th>\n",
              "      <td>4</td>\n",
              "      <td>Rudra</td>\n",
              "      <td>Female</td>\n",
              "      <td>23</td>\n",
              "      <td>Lawyer</td>\n",
              "      <td>0</td>\n",
              "      <td>2</td>\n",
              "      <td>? 5,12,000.00</td>\n",
              "      <td>Pune</td>\n",
              "    </tr>\n",
              "  </tbody>\n",
              "</table>\n",
              "</div>\n",
              "      <button class=\"colab-df-convert\" onclick=\"convertToInteractive('df-d79558fb-e48f-4f0f-b63f-afde3a25a0b2')\"\n",
              "              title=\"Convert this dataframe to an interactive table.\"\n",
              "              style=\"display:none;\">\n",
              "        \n",
              "  <svg xmlns=\"http://www.w3.org/2000/svg\" height=\"24px\"viewBox=\"0 0 24 24\"\n",
              "       width=\"24px\">\n",
              "    <path d=\"M0 0h24v24H0V0z\" fill=\"none\"/>\n",
              "    <path d=\"M18.56 5.44l.94 2.06.94-2.06 2.06-.94-2.06-.94-.94-2.06-.94 2.06-2.06.94zm-11 1L8.5 8.5l.94-2.06 2.06-.94-2.06-.94L8.5 2.5l-.94 2.06-2.06.94zm10 10l.94 2.06.94-2.06 2.06-.94-2.06-.94-.94-2.06-.94 2.06-2.06.94z\"/><path d=\"M17.41 7.96l-1.37-1.37c-.4-.4-.92-.59-1.43-.59-.52 0-1.04.2-1.43.59L10.3 9.45l-7.72 7.72c-.78.78-.78 2.05 0 2.83L4 21.41c.39.39.9.59 1.41.59.51 0 1.02-.2 1.41-.59l7.78-7.78 2.81-2.81c.8-.78.8-2.07 0-2.86zM5.41 20L4 18.59l7.72-7.72 1.47 1.35L5.41 20z\"/>\n",
              "  </svg>\n",
              "      </button>\n",
              "      \n",
              "  <style>\n",
              "    .colab-df-container {\n",
              "      display:flex;\n",
              "      flex-wrap:wrap;\n",
              "      gap: 12px;\n",
              "    }\n",
              "\n",
              "    .colab-df-convert {\n",
              "      background-color: #E8F0FE;\n",
              "      border: none;\n",
              "      border-radius: 50%;\n",
              "      cursor: pointer;\n",
              "      display: none;\n",
              "      fill: #1967D2;\n",
              "      height: 32px;\n",
              "      padding: 0 0 0 0;\n",
              "      width: 32px;\n",
              "    }\n",
              "\n",
              "    .colab-df-convert:hover {\n",
              "      background-color: #E2EBFA;\n",
              "      box-shadow: 0px 1px 2px rgba(60, 64, 67, 0.3), 0px 1px 3px 1px rgba(60, 64, 67, 0.15);\n",
              "      fill: #174EA6;\n",
              "    }\n",
              "\n",
              "    [theme=dark] .colab-df-convert {\n",
              "      background-color: #3B4455;\n",
              "      fill: #D2E3FC;\n",
              "    }\n",
              "\n",
              "    [theme=dark] .colab-df-convert:hover {\n",
              "      background-color: #434B5C;\n",
              "      box-shadow: 0px 1px 3px 1px rgba(0, 0, 0, 0.15);\n",
              "      filter: drop-shadow(0px 1px 2px rgba(0, 0, 0, 0.3));\n",
              "      fill: #FFFFFF;\n",
              "    }\n",
              "  </style>\n",
              "\n",
              "      <script>\n",
              "        const buttonEl =\n",
              "          document.querySelector('#df-d79558fb-e48f-4f0f-b63f-afde3a25a0b2 button.colab-df-convert');\n",
              "        buttonEl.style.display =\n",
              "          google.colab.kernel.accessAllowed ? 'block' : 'none';\n",
              "\n",
              "        async function convertToInteractive(key) {\n",
              "          const element = document.querySelector('#df-d79558fb-e48f-4f0f-b63f-afde3a25a0b2');\n",
              "          const dataTable =\n",
              "            await google.colab.kernel.invokeFunction('convertToInteractive',\n",
              "                                                     [key], {});\n",
              "          if (!dataTable) return;\n",
              "\n",
              "          const docLinkHtml = 'Like what you see? Visit the ' +\n",
              "            '<a target=\"_blank\" href=https://colab.research.google.com/notebooks/data_table.ipynb>data table notebook</a>'\n",
              "            + ' to learn more about interactive tables.';\n",
              "          element.innerHTML = '';\n",
              "          dataTable['output_type'] = 'display_data';\n",
              "          await google.colab.output.renderOutput(dataTable, element);\n",
              "          const docLink = document.createElement('div');\n",
              "          docLink.innerHTML = docLinkHtml;\n",
              "          element.appendChild(docLink);\n",
              "        }\n",
              "      </script>\n",
              "    </div>\n",
              "  </div>\n",
              "  "
            ]
          },
          "metadata": {},
          "execution_count": 51
        }
      ]
    },
    {
      "cell_type": "markdown",
      "source": [
        "25 women and 14 men showed this behaviour"
      ],
      "metadata": {
        "id": "KkLc-ciocyTF"
      }
    },
    {
      "cell_type": "code",
      "source": [
        "pd_joined_df['Gender'].value_counts()"
      ],
      "metadata": {
        "colab": {
          "base_uri": "https://localhost:8080/"
        },
        "id": "e1jlxgYMbFpA",
        "outputId": "4dad0052-a3fe-4f71-8e94-4d569423cd89"
      },
      "execution_count": null,
      "outputs": [
        {
          "output_type": "execute_result",
          "data": {
            "text/plain": [
              "Female    25\n",
              "Male      14\n",
              "Name: Gender, dtype: int64"
            ]
          },
          "metadata": {},
          "execution_count": 53
        }
      ]
    },
    {
      "cell_type": "code",
      "source": [
        "count = [14,25]\n",
        "gender = ['Male','Female']\n",
        "plt.bar(gender,count,width = 0.5)\n",
        "plt.xlabel('Gender')\n",
        "plt.ylabel('Counts')"
      ],
      "metadata": {
        "colab": {
          "base_uri": "https://localhost:8080/",
          "height": 466
        },
        "id": "CNVaLKCxbFrW",
        "outputId": "7d169c57-417f-4a52-f42f-a79720a0353e"
      },
      "execution_count": null,
      "outputs": [
        {
          "output_type": "execute_result",
          "data": {
            "text/plain": [
              "Text(0, 0.5, 'Counts')"
            ]
          },
          "metadata": {},
          "execution_count": 81
        },
        {
          "output_type": "display_data",
          "data": {
            "text/plain": [
              "<Figure size 640x480 with 1 Axes>"
            ],
            "image/png": "[encoded data removed]"
          },
          "metadata": {}
        }
      ]
    },
    {
      "cell_type": "markdown",
      "source": [
        "Above chart shows downward substitution per gender"
      ],
      "metadata": {
        "id": "a7idLCZVsulk"
      }
    },
    {
      "cell_type": "code",
      "source": [
        "a = pd_joined_df['Age'].unique()\n",
        "b = pd_joined_df['Age'].value_counts()\n",
        "\n",
        "# Create a bar plot\n",
        "plt.bar(a, b)\n",
        "\n",
        "plt.xlabel('Age')\n",
        "plt.ylabel('Counts')\n",
        "plt.title('Age Distribution')\n",
        "\n",
        "plt.show()"
      ],
      "metadata": {
        "colab": {
          "base_uri": "https://localhost:8080/",
          "height": 472
        },
        "id": "VSfkTxIibFuH",
        "outputId": "f10a8d36-036f-4cb5-e1da-e87c219f443e"
      },
      "execution_count": null,
      "outputs": [
        {
          "output_type": "display_data",
          "data": {
            "text/plain": [
              "<Figure size 640x480 with 1 Axes>"
            ],
            "image/png": "[encoded data removed]"
          },
          "metadata": {}
        }
      ]
    },
    {
      "cell_type": "markdown",
      "source": [
        "Age distribution of people who showed Downward substitution"
      ],
      "metadata": {
        "id": "KhuXviHatL4R"
      }
    },
    {
      "cell_type": "code",
      "source": [
        "plt.pie(pd_joined_df['Profession'].value_counts(ascending=False), labels =pd_joined_df['Profession'].unique(),autopct = '%0.1f%%', shadow=True)\n",
        "plt.show()"
      ],
      "metadata": {
        "colab": {
          "base_uri": "https://localhost:8080/",
          "height": 406
        },
        "id": "RxW_ExZDekOu",
        "outputId": "59e80d7f-61ae-4bd3-b23f-641e2572f230"
      },
      "execution_count": null,
      "outputs": [
        {
          "output_type": "display_data",
          "data": {
            "text/plain": [
              "<Figure size 640x480 with 1 Axes>"
            ],
            "image/png": "[encoded data removed]"
          },
          "metadata": {}
        }
      ]
    },
    {
      "cell_type": "markdown",
      "source": [
        "Above pie chart shows Engineers,Lawyers,Entertainment professionals are top people who showed downward substitution"
      ],
      "metadata": {
        "id": "6EitfKu2tSDk"
      }
    },
    {
      "cell_type": "code",
      "source": [
        "y = pd_joined_df['City'].value_counts().values.tolist()\n",
        "x = pd_joined_df['City'].unique().tolist()\n",
        "plt.bar(x,y)\n",
        "plt.xlabel('City')\n",
        "plt.ylabel('Counts')\n",
        "plt.title('Downward Substitution by City')"
      ],
      "metadata": {
        "colab": {
          "base_uri": "https://localhost:8080/",
          "height": 489
        },
        "id": "2xJjFRs8ekRL",
        "outputId": "dd5b0cdb-ee11-4951-a058-f30fd2b07a03"
      },
      "execution_count": null,
      "outputs": [
        {
          "output_type": "execute_result",
          "data": {
            "text/plain": [
              "Text(0.5, 1.0, 'Downward Substitution by City')"
            ]
          },
          "metadata": {},
          "execution_count": 104
        },
        {
          "output_type": "display_data",
          "data": {
            "text/plain": [
              "<Figure size 640x480 with 1 Axes>"
            ],
            "image/png": "[encoded data removed]"
          },
          "metadata": {}
        }
      ]
    },
    {
      "cell_type": "code",
      "source": [],
      "metadata": {
        "id": "eeE_1a8eekVg"
      },
      "execution_count": null,
      "outputs": []
    },
    {
      "cell_type": "code",
      "source": [],
      "metadata": {
        "id": "ywJojI4PekXY"
      },
      "execution_count": null,
      "outputs": []
    },
    {
      "cell_type": "code",
      "source": [],
      "metadata": {
        "id": "GlwR4wR-eka4"
      },
      "execution_count": null,
      "outputs": []
    },
    {
      "cell_type": "code",
      "source": [],
      "metadata": {
        "id": "5m_CtQ8TbFxP"
      },
      "execution_count": null,
      "outputs": []
    },
    {
      "cell_type": "code",
      "source": [],
      "metadata": {
        "id": "RpHn6pJHbFzj"
      },
      "execution_count": null,
      "outputs": []
    },
    {
      "cell_type": "code",
      "source": [],
      "metadata": {
        "id": "0WC5i5K_bF3F"
      },
      "execution_count": null,
      "outputs": []
    }
  ]
}