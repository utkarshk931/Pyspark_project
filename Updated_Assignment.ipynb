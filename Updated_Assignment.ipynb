{
  "nbformat": 4,
  "nbformat_minor": 0,
  "metadata": {
    "colab": {
      "provenance": []
    },
    "kernelspec": {
      "name": "python3",
      "display_name": "Python 3"
    },
    "language_info": {
      "name": "python"
    }
  },
  "cells": [
    {
      "cell_type": "markdown",
      "source": [
        "## In this code I have modified the logic and after analysing plotted few charts.Also I timed major steps.\n",
        "\n",
        "I have kept old assignmet file in the main folder to compare the results with this updated assignment file"
      ],
      "metadata": {
        "id": "mOgDEaX2NAij"
      }
    },
    {
      "cell_type": "code",
      "execution_count": 2,
      "metadata": {
        "colab": {
          "base_uri": "https://localhost:8080/"
        },
        "id": "sJhSU7iz4vQ6",
        "outputId": "ddd68a1d-d476-4cd3-81ad-57abac26f6e6"
      },
      "outputs": [
        {
          "output_type": "stream",
          "name": "stdout",
          "text": [
            "Collecting pyspark\n",
            "  Downloading pyspark-3.4.1.tar.gz (310.8 MB)\n",
            "\u001b[2K     \u001b[90m━━━━━━━━━━━━━━━━━━━━━━━━━━━━━━━━━━━━━━━\u001b[0m \u001b[32m310.8/310.8 MB\u001b[0m \u001b[31m4.1 MB/s\u001b[0m eta \u001b[36m0:00:00\u001b[0m\n",
            "\u001b[?25h  Preparing metadata (setup.py) ... \u001b[?25l\u001b[?25hdone\n",
            "Requirement already satisfied: py4j==0.10.9.7 in /usr/local/lib/python3.10/dist-packages (from pyspark) (0.10.9.7)\n",
            "Building wheels for collected packages: pyspark\n",
            "  Building wheel for pyspark (setup.py) ... \u001b[?25l\u001b[?25hdone\n",
            "  Created wheel for pyspark: filename=pyspark-3.4.1-py2.py3-none-any.whl size=311285398 sha256=d228ce4d4761f8ed14839ec34aa3f8283a841cb31c26297f3a1ee48503c677e4\n",
            "  Stored in directory: /root/.cache/pip/wheels/0d/77/a3/ff2f74cc9ab41f8f594dabf0579c2a7c6de920d584206e0834\n",
            "Successfully built pyspark\n",
            "Installing collected packages: pyspark\n",
            "Successfully installed pyspark-3.4.1\n"
          ]
        }
      ],
      "source": [
        "pip install pyspark\n"
      ]
    },
    {
      "cell_type": "code",
      "source": [
        "from pyspark.sql import SparkSession\n",
        "import pyspark.sql.functions as F\n",
        "from pyspark.sql import  Window\n",
        "import pyspark.sql.types as T\n",
        "from pyspark.sql.functions import unix_timestamp, from_unixtime\n",
        "import time"
      ],
      "metadata": {
        "id": "xtrG35Yp4wjR"
      },
      "execution_count": 140,
      "outputs": []
    },
    {
      "cell_type": "markdown",
      "source": [
        "Starting spark session"
      ],
      "metadata": {
        "id": "9T7fkr9pUtS8"
      }
    },
    {
      "cell_type": "code",
      "source": [
        "start_time = time.time()\n",
        "spark = SparkSession.builder.getOrCreate()\n",
        "end_time = time.time()\n",
        "execution_time = end_time - start_time\n",
        "print(f\"Execution Time: {execution_time:.4f} seconds\")"
      ],
      "metadata": {
        "colab": {
          "base_uri": "https://localhost:8080/"
        },
        "id": "546IFOVg4wl-",
        "outputId": "41ca2a92-59c1-484b-a967-f9a930ac4a3e"
      },
      "execution_count": 155,
      "outputs": [
        {
          "output_type": "stream",
          "name": "stdout",
          "text": [
            "Execution Time: 0.0221 seconds\n"
          ]
        }
      ]
    },
    {
      "cell_type": "markdown",
      "source": [
        "Reading Transaction csv file"
      ],
      "metadata": {
        "id": "2vbzr9bsLais"
      }
    },
    {
      "cell_type": "code",
      "source": [
        "df_t = spark.read.csv('/content/Transaction.csv', inferSchema = True , header=True)\n",
        "df_t = df_t.withColumnRenamed('market_price', 'market_price_1') \\\n",
        " .withColumnRenamed('product', 'product_1')\n",
        "df_t.show(3)"
      ],
      "metadata": {
        "colab": {
          "base_uri": "https://localhost:8080/"
        },
        "id": "Bh514yts4wpA",
        "outputId": "bf495fdb-e5b9-45d2-cc7b-1c52a978943b"
      },
      "execution_count": 82,
      "outputs": [
        {
          "output_type": "stream",
          "name": "stdout",
          "text": [
            "+----------+-------------+----------+---------+--------------------+--------------+--------+----------+\n",
            "|CustomerID|TransactionNo|      Date|ProductNo|           product_1|market_price_1|Quantity|CustomerNo|\n",
            "+----------+-------------+----------+---------+--------------------+--------------+--------+----------+\n",
            "|         1|       581482|01-01-2021|    22485|Garlic Oil - Vege...|         220.0|      12|     17490|\n",
            "|         2|       581475|04-01-2021|    22596|Water Bottle - Or...|         180.0|      36|     13069|\n",
            "|         2|       581475|05-01-2021|    23235|Brass Angle Deep ...|         250.0|      12|     13069|\n",
            "+----------+-------------+----------+---------+--------------------+--------------+--------+----------+\n",
            "only showing top 3 rows\n",
            "\n"
          ]
        }
      ]
    },
    {
      "cell_type": "code",
      "source": [
        "df_p = spark.read.csv('/content/Product.csv', inferSchema = True , header=True)\n",
        "df_p.show(3)"
      ],
      "metadata": {
        "colab": {
          "base_uri": "https://localhost:8080/"
        },
        "id": "X5uiOq6A4wrm",
        "outputId": "949ca669-ddff-4660-a55a-dd2e1fec911d"
      },
      "execution_count": 83,
      "outputs": [
        {
          "output_type": "stream",
          "name": "stdout",
          "text": [
            "+---------+--------------------+--------------------+--------------------+-----------------+------------+------+\n",
            "|ProductNo|            category|        sub_category|             product|            brand|market_price|rating|\n",
            "+---------+--------------------+--------------------+--------------------+-----------------+------------+------+\n",
            "|    22485|    Beauty & Hygiene|           Hair Care|Garlic Oil - Vege...|Sri Sri Ayurveda |       220.0|   4.1|\n",
            "|    22596|Kitchen, Garden &...|Storage & Accesso...|Water Bottle - Or...|       Mastercook|       180.0|   2.3|\n",
            "|    23235|Cleaning & Household|         Pooja Needs|Brass Angle Deep ...|              Trm|       250.0|   3.4|\n",
            "+---------+--------------------+--------------------+--------------------+-----------------+------------+------+\n",
            "only showing top 3 rows\n",
            "\n"
          ]
        }
      ]
    },
    {
      "cell_type": "markdown",
      "source": [
        "Merging product and transaction tables"
      ],
      "metadata": {
        "id": "8zngseZQLk2A"
      }
    },
    {
      "cell_type": "code",
      "source": [
        "df = df_t.join(df_p,how='inner', on='ProductNo')\n",
        "df.show(3)"
      ],
      "metadata": {
        "colab": {
          "base_uri": "https://localhost:8080/"
        },
        "id": "soY4NZub4wuN",
        "outputId": "fb911579-9899-4d15-ffd0-50bcee408da7"
      },
      "execution_count": 84,
      "outputs": [
        {
          "output_type": "stream",
          "name": "stdout",
          "text": [
            "+---------+----------+-------------+----------+--------------------+--------------+--------+----------+--------------------+--------------------+--------------------+-----------------+------------+------+\n",
            "|ProductNo|CustomerID|TransactionNo|      Date|           product_1|market_price_1|Quantity|CustomerNo|            category|        sub_category|             product|            brand|market_price|rating|\n",
            "+---------+----------+-------------+----------+--------------------+--------------+--------+----------+--------------------+--------------------+--------------------+-----------------+------------+------+\n",
            "|    22485|         1|       581482|01-01-2021|Garlic Oil - Vege...|         220.0|      12|     17490|    Beauty & Hygiene|           Hair Care|Garlic Oil - Vege...|Sri Sri Ayurveda |       220.0|   4.1|\n",
            "|    22596|        51|       542777|18-05-2021|Golden Dew Intens...|         599.0|       1|     16217|Kitchen, Garden &...|Storage & Accesso...|Water Bottle - Or...|       Mastercook|       180.0|   2.3|\n",
            "|    22596|        25|       581502|21-12-2021|Organic Brown Ric...|         769.0|      24|     15910|Kitchen, Garden &...|Storage & Accesso...|Water Bottle - Or...|       Mastercook|       180.0|   2.3|\n",
            "+---------+----------+-------------+----------+--------------------+--------------+--------+----------+--------------------+--------------------+--------------------+-----------------+------------+------+\n",
            "only showing top 3 rows\n",
            "\n"
          ]
        }
      ]
    },
    {
      "cell_type": "code",
      "source": [
        "df.count()"
      ],
      "metadata": {
        "colab": {
          "base_uri": "https://localhost:8080/"
        },
        "id": "7uY0FKwT4wxD",
        "outputId": "0dc4a082-42c5-4066-e028-bfc6a861dab9"
      },
      "execution_count": 85,
      "outputs": [
        {
          "output_type": "execute_result",
          "data": {
            "text/plain": [
              "4611"
            ]
          },
          "metadata": {},
          "execution_count": 85
        }
      ]
    },
    {
      "cell_type": "markdown",
      "source": [
        "Converting date column in df dataframe from string to date format\n"
      ],
      "metadata": {
        "id": "JoDmZupXvxC1"
      }
    },
    {
      "cell_type": "code",
      "source": [
        "df = df.withColumn(\"Date\", F.to_date(F.col(\"Date\"), \"dd-MM-yyyy\"))"
      ],
      "metadata": {
        "id": "Pi3YVmxoveu-"
      },
      "execution_count": 94,
      "outputs": []
    },
    {
      "cell_type": "markdown",
      "source": [
        "partitioning the data into subsets based on unique combinations of 'CustomerID' and 'Category'\n",
        "\n",
        " we are using rangeBetween(Window.unboundedPreceding, 0), which means it considers all rows from the beginning of the partition (year) up to the current row."
      ],
      "metadata": {
        "id": "hYbwY0ann3FR"
      }
    },
    {
      "cell_type": "code",
      "source": [
        "start_time = time.time()\n",
        "windowSpec_cumulative = Window.partitionBy('CustomerID', 'Category').orderBy('Date').rangeBetween(Window.unboundedPreceding, 0)\n",
        "end_time = time.time()\n",
        "execution_time = end_time - start_time\n",
        "print(f\" Execution Time: {execution_time:.4f} seconds\")"
      ],
      "metadata": {
        "colab": {
          "base_uri": "https://localhost:8080/"
        },
        "id": "5_soHJFT4wzt",
        "outputId": "f63dcc54-afe8-4c59-888e-462df4d5fa07"
      },
      "execution_count": 149,
      "outputs": [
        {
          "output_type": "stream",
          "name": "stdout",
          "text": [
            " Execution Time: 0.0137 seconds\n"
          ]
        }
      ]
    },
    {
      "cell_type": "markdown",
      "source": [
        "Calculating cumulative avg price using the windowSpec_cumulative"
      ],
      "metadata": {
        "id": "vh2fJLxmofk2"
      }
    },
    {
      "cell_type": "code",
      "source": [
        "start_time = time.time()\n",
        "data1 = df.withColumn('cumulative_avg_price', F.avg('market_price').over(windowSpec_cumulative))\n",
        "end_time = time.time()\n",
        "execution_time = end_time - start_time\n",
        "print(f\" Execution Time: {execution_time:.4f} seconds\")"
      ],
      "metadata": {
        "colab": {
          "base_uri": "https://localhost:8080/"
        },
        "id": "OKtCzIQQ4w2j",
        "outputId": "838d102e-274e-4e28-9785-46adb67dd3f7"
      },
      "execution_count": 148,
      "outputs": [
        {
          "output_type": "stream",
          "name": "stdout",
          "text": [
            " Execution Time: 0.0208 seconds\n"
          ]
        }
      ]
    },
    {
      "cell_type": "code",
      "source": [
        "data1.show(2)"
      ],
      "metadata": {
        "colab": {
          "base_uri": "https://localhost:8080/"
        },
        "id": "HFgarYQZ4w5J",
        "outputId": "de35d911-a3c8-47e6-b6d9-492988a08ac2"
      },
      "execution_count": 97,
      "outputs": [
        {
          "output_type": "stream",
          "name": "stdout",
          "text": [
            "+---------+----------+-------------+----------+--------------------+--------------+--------+----------+----------------+---------------+--------------------+-----------------+------------+------+--------------------+\n",
            "|ProductNo|CustomerID|TransactionNo|      Date|           product_1|market_price_1|Quantity|CustomerNo|        category|   sub_category|             product|            brand|market_price|rating|cumulative_avg_price|\n",
            "+---------+----------+-------------+----------+--------------------+--------------+--------+----------+----------------+---------------+--------------------+-----------------+------------+------+--------------------+\n",
            "|    22485|         1|       581482|2021-01-01|Garlic Oil - Vege...|         220.0|      12|     17490|Beauty & Hygiene|      Hair Care|Garlic Oil - Vege...|Sri Sri Ayurveda |       220.0|   4.1|               220.0|\n",
            "|    22721|         2|       581475|2021-01-20|Mold & Mildew Rem...|         350.0|      12|     13069|       Baby Care|Diapers & Wipes|Premium Care XXL ...|         Pampers |      1099.0|   4.5|              1099.0|\n",
            "+---------+----------+-------------+----------+--------------------+--------------+--------+----------+----------------+---------------+--------------------+-----------------+------------+------+--------------------+\n",
            "only showing top 2 rows\n",
            "\n"
          ]
        }
      ]
    },
    {
      "cell_type": "markdown",
      "source": [
        "partitioning the data into subsets based on unique combinations of 'CustomerID' and 'Category'\n",
        "\n",
        "we define another window specification windowSpec_end_of_year to calculate the average price from the current row to the end of the partition year\n"
      ],
      "metadata": {
        "id": "cWz1fv5yzZGR"
      }
    },
    {
      "cell_type": "code",
      "source": [
        "start_time = time.time()\n",
        "windowSpec_end_of_year = Window.partitionBy('CustomerID', 'Category').orderBy('Date').rangeBetween(0, Window.unboundedFollowing)\n",
        "end_time = time.time()\n",
        "execution_time = end_time - start_time\n"
      ],
      "metadata": {
        "id": "NCGmq1Fy2MMB"
      },
      "execution_count": 98,
      "outputs": []
    },
    {
      "cell_type": "markdown",
      "source": [
        "creating new data frame data2 based on data1 and adding new column end_of_year_avg_price which is based on windowSpec_end_of_year"
      ],
      "metadata": {
        "id": "Wohf09cc99c3"
      }
    },
    {
      "cell_type": "code",
      "source": [
        "start_time = time.time()\n",
        "data2 = data1.withColumn('end_of_year_avg_price', F.avg('market_price').over(windowSpec_end_of_year))\n",
        "end_time = time.time()\n",
        "execution_time = end_time - start_time\n",
        "print(f\" Execution Time: {execution_time:.4f} seconds\")"
      ],
      "metadata": {
        "colab": {
          "base_uri": "https://localhost:8080/"
        },
        "id": "WHD9gKq04w-b",
        "outputId": "3fe572c2-3a4a-42eb-881e-1404a6b1180a"
      },
      "execution_count": 147,
      "outputs": [
        {
          "output_type": "stream",
          "name": "stdout",
          "text": [
            " Execution Time: 0.0217 seconds\n"
          ]
        }
      ]
    },
    {
      "cell_type": "code",
      "source": [
        "data2.show(10)"
      ],
      "metadata": {
        "colab": {
          "base_uri": "https://localhost:8080/"
        },
        "id": "p4xwouMW4xA-",
        "outputId": "2686149b-2003-4cf4-d5cb-ba1f89439eee"
      },
      "execution_count": 69,
      "outputs": [
        {
          "output_type": "stream",
          "name": "stdout",
          "text": [
            "+---------+----------+-------------+----------+--------------------+--------------+--------+----------+----------------+-----------------+--------------------+-----------------+------------+------+--------------------+---------------------+\n",
            "|ProductNo|CustomerID|TransactionNo|      Date|             product|market_price_1|Quantity|CustomerNo|        category|     sub_category|             product|            brand|market_price|rating|cumulative_avg_price|end_of_year_avg_price|\n",
            "+---------+----------+-------------+----------+--------------------+--------------+--------+----------+----------------+-----------------+--------------------+-----------------+------------+------+--------------------+---------------------+\n",
            "|    22485|         1|       581482|2021-01-01|Garlic Oil - Vege...|         220.0|      12|     17490|Beauty & Hygiene|        Hair Care|Garlic Oil - Vege...|Sri Sri Ayurveda |       220.0|   4.1|               220.0|                220.0|\n",
            "|    22721|         2|       581475|2021-01-20|Mold & Mildew Rem...|         350.0|      12|     13069|       Baby Care|  Diapers & Wipes|Premium Care XXL ...|         Pampers |      1099.0|   4.5|              1099.0|               1099.0|\n",
            "|    22596|         2|       581475|2021-01-04|Water Bottle - Or...|         180.0|      36|     13069|Beauty & Hygiene|Fragrances & Deos|Golden Dew Intens...|Dorall Collection|       599.0|   4.0|               599.0|   299.72727272727275|\n",
            "|    23239|         2|       581475|2021-01-07|Creme Soft Soap -...|         162.0|       6|     13069|Beauty & Hygiene| Bath & Hand Wash|Creme Soft Soap -...|            Nivea|       162.0|   4.4|               380.5|                269.8|\n",
            "|    21705|         2|       581475|2021-01-08|Germ - Removal Mu...|         199.0|      24|     13069|Beauty & Hygiene| Bath & Hand Wash|Licorice & Saffro...|          Azafran|       155.0|   4.5|   305.3333333333333|   281.77777777777777|\n",
            "|    22118|         2|       581475|2021-01-11|        Multani Mati|          58.0|      18|     13069|Beauty & Hygiene|        Skin Care|        Multani Mati|        Satinance|        58.0|   3.6|               243.5|              297.625|\n",
            "|    22119|         2|       581475|2021-01-12|Hand Sanitizer - ...|         250.0|      12|     13069|Beauty & Hygiene| Bath & Hand Wash|Hand Sanitizer - ...|          Bionova|       250.0|   4.0|               244.8|   331.85714285714283|\n",
            "|    22217|         2|       581475|2021-01-13|Biotin & Collagen...|        1098.0|      12|     13069|Beauty & Hygiene|        Hair Care|Biotin & Collagen...|       StBotanica|      1098.0|   3.5|               387.0|                345.5|\n",
            "|    22664|         2|       581475|2021-01-19|Face Wash - Oil C...|         110.0|      20|     13069|Beauty & Hygiene|        Skin Care|Face Wash - Oil C...|              Oxy|       110.0|   5.0|  347.42857142857144|                195.0|\n",
            "|    22721|         2|       581475|2021-01-20|Mold & Mildew Rem...|         350.0|      12|     13069|Beauty & Hygiene|   Men's Grooming|Series Shave Gel ...|         Gillette|        85.0|   4.4|             314.625|               216.25|\n",
            "+---------+----------+-------------+----------+--------------------+--------------+--------+----------+----------------+-----------------+--------------------+-----------------+------------+------+--------------------+---------------------+\n",
            "only showing top 10 rows\n",
            "\n"
          ]
        }
      ]
    },
    {
      "cell_type": "markdown",
      "source": [
        "we add another column shifted_to_lower_value to data2. This column is determined based on a condition: if the end_of_year_avg_price is less than the cumulative_avg_price, we set it to True, indicating that the customer has shifted to a lower value product from the same category by the end of the year; otherwise, it is set to False."
      ],
      "metadata": {
        "id": "aVNzrskS-tJW"
      }
    },
    {
      "cell_type": "code",
      "source": [
        "start_time = time.time()\n",
        "data2 = data2.withColumn('shifted_to_lower_value',\n",
        "                         F.when(F.col('end_of_year_avg_price') < F.col('cumulative_avg_price'), True)\n",
        "                         .otherwise(False))\n",
        "\n",
        "end_time = time.time()\n",
        "execution_time = end_time - start_time\n",
        "print(f\" Execution Time: {execution_time:.4f} seconds\")"
      ],
      "metadata": {
        "colab": {
          "base_uri": "https://localhost:8080/"
        },
        "id": "DHu4_eVf4xEG",
        "outputId": "94f69cc6-8f08-4646-ef72-e6387d79d3d6"
      },
      "execution_count": 146,
      "outputs": [
        {
          "output_type": "stream",
          "name": "stdout",
          "text": [
            " Execution Time: 0.0275 seconds\n"
          ]
        }
      ]
    },
    {
      "cell_type": "code",
      "source": [
        "data2.show(2)"
      ],
      "metadata": {
        "colab": {
          "base_uri": "https://localhost:8080/"
        },
        "id": "3kv8d_EDCV_V",
        "outputId": "a07ecb97-aac5-4ee6-f08f-25423f3f5889"
      },
      "execution_count": 102,
      "outputs": [
        {
          "output_type": "stream",
          "name": "stdout",
          "text": [
            "+---------+----------+-------------+----------+--------------------+--------------+--------+----------+----------------+---------------+--------------------+-----------------+------------+------+--------------------+---------------------+----------------------+\n",
            "|ProductNo|CustomerID|TransactionNo|      Date|           product_1|market_price_1|Quantity|CustomerNo|        category|   sub_category|             product|            brand|market_price|rating|cumulative_avg_price|end_of_year_avg_price|shifted_to_lower_value|\n",
            "+---------+----------+-------------+----------+--------------------+--------------+--------+----------+----------------+---------------+--------------------+-----------------+------------+------+--------------------+---------------------+----------------------+\n",
            "|    22485|         1|       581482|2021-01-01|Garlic Oil - Vege...|         220.0|      12|     17490|Beauty & Hygiene|      Hair Care|Garlic Oil - Vege...|Sri Sri Ayurveda |       220.0|   4.1|               220.0|                220.0|                 false|\n",
            "|    22721|         2|       581475|2021-01-20|Mold & Mildew Rem...|         350.0|      12|     13069|       Baby Care|Diapers & Wipes|Premium Care XXL ...|         Pampers |      1099.0|   4.5|              1099.0|               1099.0|                 false|\n",
            "+---------+----------+-------------+----------+--------------------+--------------+--------+----------+----------------+---------------+--------------------+-----------------+------------+------+--------------------+---------------------+----------------------+\n",
            "only showing top 2 rows\n",
            "\n"
          ]
        }
      ]
    },
    {
      "cell_type": "markdown",
      "source": [
        "Filtering the data2 dataframe and storing the result in result_df\n",
        "Also removing few coulums so that in future if I join other tables with result_df column name should not repeat it will create ambiguity while performing column operations"
      ],
      "metadata": {
        "id": "NlmssI_z_ugC"
      }
    },
    {
      "cell_type": "code",
      "source": [
        "result_df = data2.filter(F.col('shifted_to_lower_value') == True).drop('cumulative_avg_price', 'end_of_year_avg_price','category', 'sub_category','brand','market_price','rating','product' )\n",
        "result_df.show(10)"
      ],
      "metadata": {
        "colab": {
          "base_uri": "https://localhost:8080/"
        },
        "id": "2pS66Q2A4xGx",
        "outputId": "754a3c68-08e1-4fc1-c629-67ddc3407682"
      },
      "execution_count": 104,
      "outputs": [
        {
          "output_type": "stream",
          "name": "stdout",
          "text": [
            "+---------+----------+-------------+----------+--------------------+--------------+--------+----------+----------------------+\n",
            "|ProductNo|CustomerID|TransactionNo|      Date|           product_1|market_price_1|Quantity|CustomerNo|shifted_to_lower_value|\n",
            "+---------+----------+-------------+----------+--------------------+--------------+--------+----------+----------------------+\n",
            "|    22596|         2|       581475|2021-01-04|Water Bottle - Or...|         180.0|      36|     13069|                  true|\n",
            "|    23239|         2|       581475|2021-01-07|Creme Soft Soap -...|         162.0|       6|     13069|                  true|\n",
            "|    21705|         2|       581475|2021-01-08|Germ - Removal Mu...|         199.0|      24|     13069|                  true|\n",
            "|    22217|         2|       581475|2021-01-13|Biotin & Collagen...|        1098.0|      12|     13069|                  true|\n",
            "|    22664|         2|       581475|2021-01-19|Face Wash - Oil C...|         110.0|      20|     13069|                  true|\n",
            "|    22721|         2|       581475|2021-01-20|Mold & Mildew Rem...|         350.0|      12|     13069|                  true|\n",
            "|    22955|         2|       581475|2021-01-25|Smooth Skin Oil -...|         360.0|      24|     13069|                  true|\n",
            "|    22956|         2|       581475|2021-01-27|Flax Seeds - Roasted|         120.0|      24|     13069|                  true|\n",
            "|    22581|         2|       581475|2021-01-28|Organic Tofu - So...|          90.0|      48|     13069|                  true|\n",
            "|    23235|         2|       581475|2021-01-05|Brass Angle Deep ...|         250.0|      12|     13069|                  true|\n",
            "+---------+----------+-------------+----------+--------------------+--------------+--------+----------+----------------------+\n",
            "only showing top 10 rows\n",
            "\n"
          ]
        }
      ]
    },
    {
      "cell_type": "code",
      "source": [
        "result_df.count()"
      ],
      "metadata": {
        "colab": {
          "base_uri": "https://localhost:8080/"
        },
        "id": "14zue3ym4xLs",
        "outputId": "4576f345-5ff3-420e-8b88-716dd084e4c1"
      },
      "execution_count": 105,
      "outputs": [
        {
          "output_type": "execute_result",
          "data": {
            "text/plain": [
              "2346"
            ]
          },
          "metadata": {},
          "execution_count": 105
        }
      ]
    },
    {
      "cell_type": "markdown",
      "source": [
        "there are total 39 out of 55 customers who showed downward substitution"
      ],
      "metadata": {
        "id": "x2HvSpRNBOmu"
      }
    },
    {
      "cell_type": "code",
      "source": [
        "result_count_df = result_df.groupBy('CustomerID').agg(F.count(F.lit(1)).alias('Shift_Count'))\n",
        "\n",
        "# Order the result in descending order based on the 'Shift_Count'\n",
        "result_count_df = result_count_df.orderBy(F.desc('Shift_Count'))\n",
        "\n",
        "result_count_df.count()"
      ],
      "metadata": {
        "colab": {
          "base_uri": "https://localhost:8080/"
        },
        "id": "ggyb8T2i4xOg",
        "outputId": "bdcc34b7-a6fc-4d44-9a8d-34f3e8f4778a"
      },
      "execution_count": 106,
      "outputs": [
        {
          "output_type": "execute_result",
          "data": {
            "text/plain": [
              "39"
            ]
          },
          "metadata": {},
          "execution_count": 106
        }
      ]
    },
    {
      "cell_type": "code",
      "source": [
        "product_df = spark.read.csv('/content/Product.csv', inferSchema = True , header=True)\n",
        "product_df.show(5)"
      ],
      "metadata": {
        "colab": {
          "base_uri": "https://localhost:8080/"
        },
        "id": "UahNi4hg4xRI",
        "outputId": "a9c80141-10e3-4ca7-8ebb-971ad7858b42"
      },
      "execution_count": 107,
      "outputs": [
        {
          "output_type": "stream",
          "name": "stdout",
          "text": [
            "+---------+--------------------+--------------------+--------------------+-----------------+------------+------+\n",
            "|ProductNo|            category|        sub_category|             product|            brand|market_price|rating|\n",
            "+---------+--------------------+--------------------+--------------------+-----------------+------------+------+\n",
            "|    22485|    Beauty & Hygiene|           Hair Care|Garlic Oil - Vege...|Sri Sri Ayurveda |       220.0|   4.1|\n",
            "|    22596|Kitchen, Garden &...|Storage & Accesso...|Water Bottle - Or...|       Mastercook|       180.0|   2.3|\n",
            "|    23235|Cleaning & Household|         Pooja Needs|Brass Angle Deep ...|              Trm|       250.0|   3.4|\n",
            "|    23272|Cleaning & Household|Bins & Bathroom Ware|Cereal Flip Lid C...|           Nakoda|       176.0|   3.7|\n",
            "|    23239|    Beauty & Hygiene|    Bath & Hand Wash|Creme Soft Soap -...|            Nivea|       162.0|   4.4|\n",
            "+---------+--------------------+--------------------+--------------------+-----------------+------------+------+\n",
            "only showing top 5 rows\n",
            "\n"
          ]
        }
      ]
    },
    {
      "cell_type": "markdown",
      "source": [
        "To find all the product categories that are showing downward substitution we are going to join the result_df with the product table"
      ],
      "metadata": {
        "id": "HJdmMM7wBsEF"
      }
    },
    {
      "cell_type": "code",
      "source": [
        "start_time = time.time()\n",
        "merged_df = result_df.join(product_df, on='ProductNo', how='inner')\n",
        "merged_df = merged_df.drop('CustomerID')\n",
        "end_time = time.time()\n",
        "execution_time = end_time - start_time\n",
        "print(f\" Execution Time: {execution_time:.4f} seconds\")"
      ],
      "metadata": {
        "colab": {
          "base_uri": "https://localhost:8080/"
        },
        "id": "PvV8Wo824xTi",
        "outputId": "bcfd28ce-4524-48a9-b245-a04cdf5ef46c"
      },
      "execution_count": 150,
      "outputs": [
        {
          "output_type": "stream",
          "name": "stdout",
          "text": [
            " Execution Time: 0.0370 seconds\n"
          ]
        }
      ]
    },
    {
      "cell_type": "code",
      "source": [
        "merged_df.show(5)"
      ],
      "metadata": {
        "colab": {
          "base_uri": "https://localhost:8080/"
        },
        "id": "aXv0GaUCG_Gy",
        "outputId": "f22374df-9e7c-4a66-90c6-06e1ec6584d1"
      },
      "execution_count": 119,
      "outputs": [
        {
          "output_type": "stream",
          "name": "stdout",
          "text": [
            "+---------+-------------+----------+--------------------+--------------+--------+----------+----------------------+--------------------+--------------------+--------------------+-----------------+------------+------+\n",
            "|ProductNo|TransactionNo|      Date|           product_1|market_price_1|Quantity|CustomerNo|shifted_to_lower_value|            category|        sub_category|             product|            brand|market_price|rating|\n",
            "+---------+-------------+----------+--------------------+--------------+--------+----------+----------------------+--------------------+--------------------+--------------------+-----------------+------------+------+\n",
            "|    22596|       581475|2021-01-04|Water Bottle - Or...|         180.0|      36|     13069|                  true|    Beauty & Hygiene|   Fragrances & Deos|Golden Dew Intens...|Dorall Collection|       599.0|   4.0|\n",
            "|    22596|       581475|2021-01-04|Water Bottle - Or...|         180.0|      36|     13069|                  true|Foodgrains, Oil &...|     Organic Staples|Organic Brown Ric...|         bb Royal|       769.0|  null|\n",
            "|    22596|       581475|2021-01-04|Water Bottle - Or...|         180.0|      36|     13069|                  true|Kitchen, Garden &...|Storage & Accesso...|Water Bottle - Or...|       Mastercook|       180.0|   2.3|\n",
            "|    23239|       581475|2021-01-07|Creme Soft Soap -...|         162.0|       6|     13069|                  true|    Beauty & Hygiene|    Bath & Hand Wash|Creme Soft Soap -...|            Nivea|       162.0|   4.4|\n",
            "|    21705|       581475|2021-01-08|Germ - Removal Mu...|         199.0|      24|     13069|                  true|Foodgrains, Oil &...|    Masalas & Spices|        Garam Masala|         Nirapara|       110.0|   4.3|\n",
            "+---------+-------------+----------+--------------------+--------------+--------+----------+----------------------+--------------------+--------------------+--------------------+-----------------+------------+------+\n",
            "only showing top 5 rows\n",
            "\n"
          ]
        }
      ]
    },
    {
      "cell_type": "code",
      "source": [
        "# Grouping by 'product_category' and counting the occurrences\n",
        "start_time = time.time()\n",
        "category_counts = merged_df.groupBy('category').count()\n",
        "\n",
        "end_time = time.time()\n",
        "execution_time = end_time - start_time\n",
        "print(f\"Step 1 Execution Time: {execution_time:.4f} seconds\")"
      ],
      "metadata": {
        "colab": {
          "base_uri": "https://localhost:8080/"
        },
        "id": "I-CBrHRj4xWF",
        "outputId": "d145a8a2-45d9-4f33-8d2e-36076314fef2"
      },
      "execution_count": 152,
      "outputs": [
        {
          "output_type": "stream",
          "name": "stdout",
          "text": [
            "Step 1 Execution Time: 0.0225 seconds\n"
          ]
        }
      ]
    },
    {
      "cell_type": "code",
      "source": [
        "\n",
        "category_counts.count()"
      ],
      "metadata": {
        "colab": {
          "base_uri": "https://localhost:8080/"
        },
        "id": "ewjX0dPPT0lN",
        "outputId": "b0b59264-085b-4dd4-edd3-58801c2ea222"
      },
      "execution_count": 153,
      "outputs": [
        {
          "output_type": "execute_result",
          "data": {
            "text/plain": [
              "11"
            ]
          },
          "metadata": {},
          "execution_count": 153
        }
      ]
    },
    {
      "cell_type": "code",
      "source": [
        "category_counts = category_counts.orderBy(F.desc('count'))\n",
        "category_counts.show()"
      ],
      "metadata": {
        "colab": {
          "base_uri": "https://localhost:8080/"
        },
        "id": "XKzEnIZh4xYz",
        "outputId": "6b0d56ce-3cfc-4d27-e08b-ccfd6a5f4a8c"
      },
      "execution_count": 112,
      "outputs": [
        {
          "output_type": "stream",
          "name": "stdout",
          "text": [
            "+--------------------+-----+\n",
            "|            category|count|\n",
            "+--------------------+-----+\n",
            "|    Beauty & Hygiene| 1978|\n",
            "|Gourmet & World Food| 1180|\n",
            "|Kitchen, Garden &...|  930|\n",
            "|Foodgrains, Oil &...|  867|\n",
            "|Snacks & Branded ...|  747|\n",
            "|Cleaning & Household|  589|\n",
            "|Bakery, Cakes & D...|  248|\n",
            "|           Beverages|  177|\n",
            "| Fruits & Vegetables|  135|\n",
            "|   Eggs, Meat & Fish|  103|\n",
            "|           Baby Care|   76|\n",
            "+--------------------+-----+\n",
            "\n"
          ]
        }
      ]
    },
    {
      "cell_type": "markdown",
      "source": [
        "reading customer table."
      ],
      "metadata": {
        "id": "4NVfiFPdGcfA"
      }
    },
    {
      "cell_type": "code",
      "source": [
        "customer_df = spark.read.csv('/content/Customers.csv', inferSchema = True , header=True)"
      ],
      "metadata": {
        "id": "Nd3ThKDh4xbK"
      },
      "execution_count": 113,
      "outputs": []
    },
    {
      "cell_type": "code",
      "source": [
        "customer_df.show(5)"
      ],
      "metadata": {
        "colab": {
          "base_uri": "https://localhost:8080/"
        },
        "id": "UFaXml2x4xeF",
        "outputId": "d9b5ec94-647c-4227-ae7f-f16cc166998b"
      },
      "execution_count": 114,
      "outputs": [
        {
          "output_type": "stream",
          "name": "stdout",
          "text": [
            "+----------+----------+------+---+-------------+---------------+-----------+-------------+------+\n",
            "|CustomerID|      Name|Gender|Age|   Profession|Work Experience|Family Size|Annual Income|  City|\n",
            "+----------+----------+------+---+-------------+---------------+-----------+-------------+------+\n",
            "|         1|Muhammad+1|  Male| 19|   Healthcare|              1|          4|? 5,43,000.00|Mumbai|\n",
            "|         2|       Sai|  Male| 21|     Engineer|              3|          3|? 6,74,000.00|Mumbai|\n",
            "|         3|     Advik|Female| 20|     Engineer|              1|          1|? 8,25,000.00|Nagpur|\n",
            "|         4|     Rudra|Female| 23|       Lawyer|              0|          2|? 5,12,000.00|  Pune|\n",
            "|         5|   Aayansh|Female| 31|Entertainment|              2|          6|? 7,25,000.00|  Pune|\n",
            "+----------+----------+------+---+-------------+---------------+-----------+-------------+------+\n",
            "only showing top 5 rows\n",
            "\n"
          ]
        }
      ]
    },
    {
      "cell_type": "markdown",
      "source": [
        "Inner joining result_df and customer table to get the details of all the customers who have shown downward substitution"
      ],
      "metadata": {
        "id": "r29z41-YH8ZP"
      }
    },
    {
      "cell_type": "code",
      "source": [
        "merged_df2 = result_df.join(customer_df, on='CustomerID', how='inner')\n",
        "merged_df2 = merged_df2.drop('shifted_to_lower_value')\n",
        "merged_df2.show(5)"
      ],
      "metadata": {
        "colab": {
          "base_uri": "https://localhost:8080/"
        },
        "id": "dw1_xCDW4xgP",
        "outputId": "c32ff5cf-2774-4b26-9890-ec88390b2ba0"
      },
      "execution_count": 123,
      "outputs": [
        {
          "output_type": "stream",
          "name": "stdout",
          "text": [
            "+----------+---------+-------------+----------+--------------------+--------------+--------+----------+----+------+---+----------+---------------+-----------+-------------+------+\n",
            "|CustomerID|ProductNo|TransactionNo|      Date|           product_1|market_price_1|Quantity|CustomerNo|Name|Gender|Age|Profession|Work Experience|Family Size|Annual Income|  City|\n",
            "+----------+---------+-------------+----------+--------------------+--------------+--------+----------+----+------+---+----------+---------------+-----------+-------------+------+\n",
            "|         2|    22596|       581475|2021-01-04|Water Bottle - Or...|         180.0|      36|     13069| Sai|  Male| 21|  Engineer|              3|          3|? 6,74,000.00|Mumbai|\n",
            "|         2|    23239|       581475|2021-01-07|Creme Soft Soap -...|         162.0|       6|     13069| Sai|  Male| 21|  Engineer|              3|          3|? 6,74,000.00|Mumbai|\n",
            "|         2|    21705|       581475|2021-01-08|Germ - Removal Mu...|         199.0|      24|     13069| Sai|  Male| 21|  Engineer|              3|          3|? 6,74,000.00|Mumbai|\n",
            "|         2|    22217|       581475|2021-01-13|Biotin & Collagen...|        1098.0|      12|     13069| Sai|  Male| 21|  Engineer|              3|          3|? 6,74,000.00|Mumbai|\n",
            "|         2|    22664|       581475|2021-01-19|Face Wash - Oil C...|         110.0|      20|     13069| Sai|  Male| 21|  Engineer|              3|          3|? 6,74,000.00|Mumbai|\n",
            "+----------+---------+-------------+----------+--------------------+--------------+--------+----------+----+------+---+----------+---------------+-----------+-------------+------+\n",
            "only showing top 5 rows\n",
            "\n"
          ]
        }
      ]
    },
    {
      "cell_type": "code",
      "source": [
        "unique_customer_ids = merged_df2.select('CustomerID').distinct()"
      ],
      "metadata": {
        "id": "OTCWRVOt4xjs"
      },
      "execution_count": 124,
      "outputs": []
    },
    {
      "cell_type": "code",
      "source": [
        "# Out of 55 Customers 39 Customers Showed Downward Substitution\n",
        "unique_customer_ids.count()"
      ],
      "metadata": {
        "colab": {
          "base_uri": "https://localhost:8080/"
        },
        "id": "UAOF000RIHJd",
        "outputId": "333b58e9-4443-43bd-fa0e-bfa164ae5319"
      },
      "execution_count": 125,
      "outputs": [
        {
          "output_type": "execute_result",
          "data": {
            "text/plain": [
              "39"
            ]
          },
          "metadata": {},
          "execution_count": 125
        }
      ]
    },
    {
      "cell_type": "markdown",
      "source": [
        "Perform an inner join on 'CustomerID' column between customer table and unique_customer_ids"
      ],
      "metadata": {
        "id": "KYgzkf-oIOEZ"
      }
    },
    {
      "cell_type": "code",
      "source": [
        "start_time = time.time()\n",
        "joined_df = customer_df.join(unique_customer_ids, on='CustomerID', how='inner')\n",
        "joined_df.show(5)\n",
        "end_time = time.time()\n",
        "execution_time = end_time - start_time\n",
        "print(f\"Execution Time: {execution_time:.4f} seconds\")"
      ],
      "metadata": {
        "colab": {
          "base_uri": "https://localhost:8080/"
        },
        "id": "TpZeWVrTIKaV",
        "outputId": "6a4ca6d7-a62a-4d2a-e37b-70dba491f782"
      },
      "execution_count": 154,
      "outputs": [
        {
          "output_type": "stream",
          "name": "stdout",
          "text": [
            "+----------+---------+------+---+----------+---------------+-----------+-------------+------+\n",
            "|CustomerID|     Name|Gender|Age|Profession|Work Experience|Family Size|Annual Income|  City|\n",
            "+----------+---------+------+---+----------+---------------+-----------+-------------+------+\n",
            "|        31|    Aidan|  Male| 60|    Artist|              0|          3|? 9,36,000.00|Mumbai|\n",
            "|        53|   Saumya|Female| 31|    Artist|              1|          1|? 8,32,000.00|Nagpur|\n",
            "|        34|    Tejas|  Male| 18| Homemaker|              9|          7|? 9,01,000.00|Nagpur|\n",
            "|        28|Riyaannew|  Male| 35|    Artist|              1|          3|? 8,25,000.00|Nagpur|\n",
            "|        27|   Nathan|Female| 45|Healthcare|              9|          8|? 6,74,000.00|Mumbai|\n",
            "+----------+---------+------+---+----------+---------------+-----------+-------------+------+\n",
            "only showing top 5 rows\n",
            "\n",
            "Execution Time: 1.1145 seconds\n"
          ]
        }
      ]
    },
    {
      "cell_type": "markdown",
      "source": [
        "For plotting the graphs I'm using Pandas to convert pyspark dataframe to pandas data frame"
      ],
      "metadata": {
        "id": "zSYGtsR9Ia_i"
      }
    },
    {
      "cell_type": "code",
      "source": [
        "import pandas as pd\n",
        "import matplotlib.pyplot as plt"
      ],
      "metadata": {
        "id": "J4AzCTsUIKc4"
      },
      "execution_count": 127,
      "outputs": []
    },
    {
      "cell_type": "code",
      "source": [
        "pd_category_counts = category_counts.toPandas()"
      ],
      "metadata": {
        "id": "oIepfyPHIKfg"
      },
      "execution_count": 128,
      "outputs": []
    },
    {
      "cell_type": "code",
      "source": [
        "pd_category_counts.head(3)"
      ],
      "metadata": {
        "colab": {
          "base_uri": "https://localhost:8080/",
          "height": 143
        },
        "id": "ESSKnORiIKiD",
        "outputId": "6b8df33c-6829-4f19-b38c-2fd83487db6e"
      },
      "execution_count": 129,
      "outputs": [
        {
          "output_type": "execute_result",
          "data": {
            "text/plain": [
              "                 category  count\n",
              "0        Beauty & Hygiene   1978\n",
              "1    Gourmet & World Food   1180\n",
              "2  Kitchen, Garden & Pets    930"
            ],
            "text/html": [
              "\n",
              "  <div id=\"df-36a31d33-1c5d-4629-832d-e03ec4a2010c\">\n",
              "    <div class=\"colab-df-container\">\n",
              "      <div>\n",
              "<style scoped>\n",
              "    .dataframe tbody tr th:only-of-type {\n",
              "        vertical-align: middle;\n",
              "    }\n",
              "\n",
              "    .dataframe tbody tr th {\n",
              "        vertical-align: top;\n",
              "    }\n",
              "\n",
              "    .dataframe thead th {\n",
              "        text-align: right;\n",
              "    }\n",
              "</style>\n",
              "<table border=\"1\" class=\"dataframe\">\n",
              "  <thead>\n",
              "    <tr style=\"text-align: right;\">\n",
              "      <th></th>\n",
              "      <th>category</th>\n",
              "      <th>count</th>\n",
              "    </tr>\n",
              "  </thead>\n",
              "  <tbody>\n",
              "    <tr>\n",
              "      <th>0</th>\n",
              "      <td>Beauty &amp; Hygiene</td>\n",
              "      <td>1978</td>\n",
              "    </tr>\n",
              "    <tr>\n",
              "      <th>1</th>\n",
              "      <td>Gourmet &amp; World Food</td>\n",
              "      <td>1180</td>\n",
              "    </tr>\n",
              "    <tr>\n",
              "      <th>2</th>\n",
              "      <td>Kitchen, Garden &amp; Pets</td>\n",
              "      <td>930</td>\n",
              "    </tr>\n",
              "  </tbody>\n",
              "</table>\n",
              "</div>\n",
              "      <button class=\"colab-df-convert\" onclick=\"convertToInteractive('df-36a31d33-1c5d-4629-832d-e03ec4a2010c')\"\n",
              "              title=\"Convert this dataframe to an interactive table.\"\n",
              "              style=\"display:none;\">\n",
              "        \n",
              "  <svg xmlns=\"http://www.w3.org/2000/svg\" height=\"24px\"viewBox=\"0 0 24 24\"\n",
              "       width=\"24px\">\n",
              "    <path d=\"M0 0h24v24H0V0z\" fill=\"none\"/>\n",
              "    <path d=\"M18.56 5.44l.94 2.06.94-2.06 2.06-.94-2.06-.94-.94-2.06-.94 2.06-2.06.94zm-11 1L8.5 8.5l.94-2.06 2.06-.94-2.06-.94L8.5 2.5l-.94 2.06-2.06.94zm10 10l.94 2.06.94-2.06 2.06-.94-2.06-.94-.94-2.06-.94 2.06-2.06.94z\"/><path d=\"M17.41 7.96l-1.37-1.37c-.4-.4-.92-.59-1.43-.59-.52 0-1.04.2-1.43.59L10.3 9.45l-7.72 7.72c-.78.78-.78 2.05 0 2.83L4 21.41c.39.39.9.59 1.41.59.51 0 1.02-.2 1.41-.59l7.78-7.78 2.81-2.81c.8-.78.8-2.07 0-2.86zM5.41 20L4 18.59l7.72-7.72 1.47 1.35L5.41 20z\"/>\n",
              "  </svg>\n",
              "      </button>\n",
              "      \n",
              "  <style>\n",
              "    .colab-df-container {\n",
              "      display:flex;\n",
              "      flex-wrap:wrap;\n",
              "      gap: 12px;\n",
              "    }\n",
              "\n",
              "    .colab-df-convert {\n",
              "      background-color: #E8F0FE;\n",
              "      border: none;\n",
              "      border-radius: 50%;\n",
              "      cursor: pointer;\n",
              "      display: none;\n",
              "      fill: #1967D2;\n",
              "      height: 32px;\n",
              "      padding: 0 0 0 0;\n",
              "      width: 32px;\n",
              "    }\n",
              "\n",
              "    .colab-df-convert:hover {\n",
              "      background-color: #E2EBFA;\n",
              "      box-shadow: 0px 1px 2px rgba(60, 64, 67, 0.3), 0px 1px 3px 1px rgba(60, 64, 67, 0.15);\n",
              "      fill: #174EA6;\n",
              "    }\n",
              "\n",
              "    [theme=dark] .colab-df-convert {\n",
              "      background-color: #3B4455;\n",
              "      fill: #D2E3FC;\n",
              "    }\n",
              "\n",
              "    [theme=dark] .colab-df-convert:hover {\n",
              "      background-color: #434B5C;\n",
              "      box-shadow: 0px 1px 3px 1px rgba(0, 0, 0, 0.15);\n",
              "      filter: drop-shadow(0px 1px 2px rgba(0, 0, 0, 0.3));\n",
              "      fill: #FFFFFF;\n",
              "    }\n",
              "  </style>\n",
              "\n",
              "      <script>\n",
              "        const buttonEl =\n",
              "          document.querySelector('#df-36a31d33-1c5d-4629-832d-e03ec4a2010c button.colab-df-convert');\n",
              "        buttonEl.style.display =\n",
              "          google.colab.kernel.accessAllowed ? 'block' : 'none';\n",
              "\n",
              "        async function convertToInteractive(key) {\n",
              "          const element = document.querySelector('#df-36a31d33-1c5d-4629-832d-e03ec4a2010c');\n",
              "          const dataTable =\n",
              "            await google.colab.kernel.invokeFunction('convertToInteractive',\n",
              "                                                     [key], {});\n",
              "          if (!dataTable) return;\n",
              "\n",
              "          const docLinkHtml = 'Like what you see? Visit the ' +\n",
              "            '<a target=\"_blank\" href=https://colab.research.google.com/notebooks/data_table.ipynb>data table notebook</a>'\n",
              "            + ' to learn more about interactive tables.';\n",
              "          element.innerHTML = '';\n",
              "          dataTable['output_type'] = 'display_data';\n",
              "          await google.colab.output.renderOutput(dataTable, element);\n",
              "          const docLink = document.createElement('div');\n",
              "          docLink.innerHTML = docLinkHtml;\n",
              "          element.appendChild(docLink);\n",
              "        }\n",
              "      </script>\n",
              "    </div>\n",
              "  </div>\n",
              "  "
            ]
          },
          "metadata": {},
          "execution_count": 129
        }
      ]
    },
    {
      "cell_type": "code",
      "source": [
        "plt.pie(pd_category_counts['count'],labels = pd_category_counts['category'],autopct = '%0.1f%%', shadow=True )\n",
        "plt.show()"
      ],
      "metadata": {
        "colab": {
          "base_uri": "https://localhost:8080/",
          "height": 406
        },
        "id": "r1b96Uj7IKkU",
        "outputId": "e0062891-0343-4259-8eae-5f953bceef76"
      },
      "execution_count": 130,
      "outputs": [
        {
          "output_type": "display_data",
          "data": {
            "text/plain": [
              "<Figure size 640x480 with 1 Axes>"
            ],
            "image/png": "[encoded data removed]"
          },
          "metadata": {}
        }
      ]
    },
    {
      "cell_type": "markdown",
      "source": [
        "**Above chart shows Downwards Substitution per Category**"
      ],
      "metadata": {
        "id": "dgPhCPRQK-eV"
      }
    },
    {
      "cell_type": "code",
      "source": [
        "pd_merged_df = merged_df.toPandas()\n",
        "pd_merged_df.head(2)"
      ],
      "metadata": {
        "colab": {
          "base_uri": "https://localhost:8080/",
          "height": 208
        },
        "id": "KwzSdUoOIKn8",
        "outputId": "a2d2f50f-978c-43ee-d721-09d3e523be87"
      },
      "execution_count": 131,
      "outputs": [
        {
          "output_type": "execute_result",
          "data": {
            "text/plain": [
              "  ProductNo TransactionNo        Date              product_1  market_price_1  \\\n",
              "0     22596        581475  2021-01-04  Water Bottle - Orange           180.0   \n",
              "1     22596        581475  2021-01-04  Water Bottle - Orange           180.0   \n",
              "\n",
              "   Quantity  CustomerNo  shifted_to_lower_value                  category  \\\n",
              "0        36       13069                    True          Beauty & Hygiene   \n",
              "1        36       13069                    True  Foodgrains, Oil & Masala   \n",
              "\n",
              "        sub_category                                            product  \\\n",
              "0  Fragrances & Deos                       Golden Dew Intense For Women   \n",
              "1    Organic Staples  Organic Brown Rice 5 Kg + Multigrain Atta 5 Kg...   \n",
              "\n",
              "               brand  market_price  rating  \n",
              "0  Dorall Collection         599.0     4.0  \n",
              "1           bb Royal         769.0     NaN  "
            ],
            "text/html": [
              "\n",
              "  <div id=\"df-eab8ddbf-3c7d-437d-a5a3-dcec2ae6ba1c\">\n",
              "    <div class=\"colab-df-container\">\n",
              "      <div>\n",
              "<style scoped>\n",
              "    .dataframe tbody tr th:only-of-type {\n",
              "        vertical-align: middle;\n",
              "    }\n",
              "\n",
              "    .dataframe tbody tr th {\n",
              "        vertical-align: top;\n",
              "    }\n",
              "\n",
              "    .dataframe thead th {\n",
              "        text-align: right;\n",
              "    }\n",
              "</style>\n",
              "<table border=\"1\" class=\"dataframe\">\n",
              "  <thead>\n",
              "    <tr style=\"text-align: right;\">\n",
              "      <th></th>\n",
              "      <th>ProductNo</th>\n",
              "      <th>TransactionNo</th>\n",
              "      <th>Date</th>\n",
              "      <th>product_1</th>\n",
              "      <th>market_price_1</th>\n",
              "      <th>Quantity</th>\n",
              "      <th>CustomerNo</th>\n",
              "      <th>shifted_to_lower_value</th>\n",
              "      <th>category</th>\n",
              "      <th>sub_category</th>\n",
              "      <th>product</th>\n",
              "      <th>brand</th>\n",
              "      <th>market_price</th>\n",
              "      <th>rating</th>\n",
              "    </tr>\n",
              "  </thead>\n",
              "  <tbody>\n",
              "    <tr>\n",
              "      <th>0</th>\n",
              "      <td>22596</td>\n",
              "      <td>581475</td>\n",
              "      <td>2021-01-04</td>\n",
              "      <td>Water Bottle - Orange</td>\n",
              "      <td>180.0</td>\n",
              "      <td>36</td>\n",
              "      <td>13069</td>\n",
              "      <td>True</td>\n",
              "      <td>Beauty &amp; Hygiene</td>\n",
              "      <td>Fragrances &amp; Deos</td>\n",
              "      <td>Golden Dew Intense For Women</td>\n",
              "      <td>Dorall Collection</td>\n",
              "      <td>599.0</td>\n",
              "      <td>4.0</td>\n",
              "    </tr>\n",
              "    <tr>\n",
              "      <th>1</th>\n",
              "      <td>22596</td>\n",
              "      <td>581475</td>\n",
              "      <td>2021-01-04</td>\n",
              "      <td>Water Bottle - Orange</td>\n",
              "      <td>180.0</td>\n",
              "      <td>36</td>\n",
              "      <td>13069</td>\n",
              "      <td>True</td>\n",
              "      <td>Foodgrains, Oil &amp; Masala</td>\n",
              "      <td>Organic Staples</td>\n",
              "      <td>Organic Brown Rice 5 Kg + Multigrain Atta 5 Kg...</td>\n",
              "      <td>bb Royal</td>\n",
              "      <td>769.0</td>\n",
              "      <td>NaN</td>\n",
              "    </tr>\n",
              "  </tbody>\n",
              "</table>\n",
              "</div>\n",
              "      <button class=\"colab-df-convert\" onclick=\"convertToInteractive('df-eab8ddbf-3c7d-437d-a5a3-dcec2ae6ba1c')\"\n",
              "              title=\"Convert this dataframe to an interactive table.\"\n",
              "              style=\"display:none;\">\n",
              "        \n",
              "  <svg xmlns=\"http://www.w3.org/2000/svg\" height=\"24px\"viewBox=\"0 0 24 24\"\n",
              "       width=\"24px\">\n",
              "    <path d=\"M0 0h24v24H0V0z\" fill=\"none\"/>\n",
              "    <path d=\"M18.56 5.44l.94 2.06.94-2.06 2.06-.94-2.06-.94-.94-2.06-.94 2.06-2.06.94zm-11 1L8.5 8.5l.94-2.06 2.06-.94-2.06-.94L8.5 2.5l-.94 2.06-2.06.94zm10 10l.94 2.06.94-2.06 2.06-.94-2.06-.94-.94-2.06-.94 2.06-2.06.94z\"/><path d=\"M17.41 7.96l-1.37-1.37c-.4-.4-.92-.59-1.43-.59-.52 0-1.04.2-1.43.59L10.3 9.45l-7.72 7.72c-.78.78-.78 2.05 0 2.83L4 21.41c.39.39.9.59 1.41.59.51 0 1.02-.2 1.41-.59l7.78-7.78 2.81-2.81c.8-.78.8-2.07 0-2.86zM5.41 20L4 18.59l7.72-7.72 1.47 1.35L5.41 20z\"/>\n",
              "  </svg>\n",
              "      </button>\n",
              "      \n",
              "  <style>\n",
              "    .colab-df-container {\n",
              "      display:flex;\n",
              "      flex-wrap:wrap;\n",
              "      gap: 12px;\n",
              "    }\n",
              "\n",
              "    .colab-df-convert {\n",
              "      background-color: #E8F0FE;\n",
              "      border: none;\n",
              "      border-radius: 50%;\n",
              "      cursor: pointer;\n",
              "      display: none;\n",
              "      fill: #1967D2;\n",
              "      height: 32px;\n",
              "      padding: 0 0 0 0;\n",
              "      width: 32px;\n",
              "    }\n",
              "\n",
              "    .colab-df-convert:hover {\n",
              "      background-color: #E2EBFA;\n",
              "      box-shadow: 0px 1px 2px rgba(60, 64, 67, 0.3), 0px 1px 3px 1px rgba(60, 64, 67, 0.15);\n",
              "      fill: #174EA6;\n",
              "    }\n",
              "\n",
              "    [theme=dark] .colab-df-convert {\n",
              "      background-color: #3B4455;\n",
              "      fill: #D2E3FC;\n",
              "    }\n",
              "\n",
              "    [theme=dark] .colab-df-convert:hover {\n",
              "      background-color: #434B5C;\n",
              "      box-shadow: 0px 1px 3px 1px rgba(0, 0, 0, 0.15);\n",
              "      filter: drop-shadow(0px 1px 2px rgba(0, 0, 0, 0.3));\n",
              "      fill: #FFFFFF;\n",
              "    }\n",
              "  </style>\n",
              "\n",
              "      <script>\n",
              "        const buttonEl =\n",
              "          document.querySelector('#df-eab8ddbf-3c7d-437d-a5a3-dcec2ae6ba1c button.colab-df-convert');\n",
              "        buttonEl.style.display =\n",
              "          google.colab.kernel.accessAllowed ? 'block' : 'none';\n",
              "\n",
              "        async function convertToInteractive(key) {\n",
              "          const element = document.querySelector('#df-eab8ddbf-3c7d-437d-a5a3-dcec2ae6ba1c');\n",
              "          const dataTable =\n",
              "            await google.colab.kernel.invokeFunction('convertToInteractive',\n",
              "                                                     [key], {});\n",
              "          if (!dataTable) return;\n",
              "\n",
              "          const docLinkHtml = 'Like what you see? Visit the ' +\n",
              "            '<a target=\"_blank\" href=https://colab.research.google.com/notebooks/data_table.ipynb>data table notebook</a>'\n",
              "            + ' to learn more about interactive tables.';\n",
              "          element.innerHTML = '';\n",
              "          dataTable['output_type'] = 'display_data';\n",
              "          await google.colab.output.renderOutput(dataTable, element);\n",
              "          const docLink = document.createElement('div');\n",
              "          docLink.innerHTML = docLinkHtml;\n",
              "          element.appendChild(docLink);\n",
              "        }\n",
              "      </script>\n",
              "    </div>\n",
              "  </div>\n",
              "  "
            ]
          },
          "metadata": {},
          "execution_count": 131
        }
      ]
    },
    {
      "cell_type": "markdown",
      "source": [
        "Top 10 brands that where people showed downward substitution"
      ],
      "metadata": {
        "id": "rJV1EoEBI7cI"
      }
    },
    {
      "cell_type": "code",
      "source": [
        "top_brands = pd_merged_df['brand'].value_counts(ascending = False).head(10)\n",
        "plt.barh(top_brands.index, top_brands.values)\n",
        "\n",
        "plt.xlabel('Counts')\n",
        "plt.ylabel('Brand')\n",
        "plt.title('Top 10 Brands')\n",
        "plt.show()"
      ],
      "metadata": {
        "colab": {
          "base_uri": "https://localhost:8080/",
          "height": 472
        },
        "id": "x5eA-270I1mC",
        "outputId": "f99e69ac-d628-406c-9ba0-cdad52a11b6e"
      },
      "execution_count": 133,
      "outputs": [
        {
          "output_type": "display_data",
          "data": {
            "text/plain": [
              "<Figure size 640x480 with 1 Axes>"
            ],
            "image/png": "[encoded data removed]"
          },
          "metadata": {}
        }
      ]
    },
    {
      "cell_type": "markdown",
      "source": [
        "Top 10 Brands where people showed less interest"
      ],
      "metadata": {
        "id": "woJ5FhAAK0_l"
      }
    },
    {
      "cell_type": "code",
      "source": [
        "pd_joined_df = joined_df.toPandas()\n",
        "pd_joined_df.head(3)"
      ],
      "metadata": {
        "colab": {
          "base_uri": "https://localhost:8080/",
          "height": 143
        },
        "id": "78SWcD-rI1oc",
        "outputId": "b1cc3576-df4c-4f7a-9646-21c286300f78"
      },
      "execution_count": 134,
      "outputs": [
        {
          "output_type": "execute_result",
          "data": {
            "text/plain": [
              "   CustomerID    Name  Gender  Age Profession  Work Experience  Family Size  \\\n",
              "0          31   Aidan    Male   60     Artist                0            3   \n",
              "1          53  Saumya  Female   31     Artist                1            1   \n",
              "2          34   Tejas    Male   18  Homemaker                9            7   \n",
              "\n",
              "   Annual Income    City  \n",
              "0  ? 9,36,000.00  Mumbai  \n",
              "1  ? 8,32,000.00  Nagpur  \n",
              "2  ? 9,01,000.00  Nagpur  "
            ],
            "text/html": [
              "\n",
              "  <div id=\"df-4304a2b9-816a-4195-95b9-fe49f873f1a4\">\n",
              "    <div class=\"colab-df-container\">\n",
              "      <div>\n",
              "<style scoped>\n",
              "    .dataframe tbody tr th:only-of-type {\n",
              "        vertical-align: middle;\n",
              "    }\n",
              "\n",
              "    .dataframe tbody tr th {\n",
              "        vertical-align: top;\n",
              "    }\n",
              "\n",
              "    .dataframe thead th {\n",
              "        text-align: right;\n",
              "    }\n",
              "</style>\n",
              "<table border=\"1\" class=\"dataframe\">\n",
              "  <thead>\n",
              "    <tr style=\"text-align: right;\">\n",
              "      <th></th>\n",
              "      <th>CustomerID</th>\n",
              "      <th>Name</th>\n",
              "      <th>Gender</th>\n",
              "      <th>Age</th>\n",
              "      <th>Profession</th>\n",
              "      <th>Work Experience</th>\n",
              "      <th>Family Size</th>\n",
              "      <th>Annual Income</th>\n",
              "      <th>City</th>\n",
              "    </tr>\n",
              "  </thead>\n",
              "  <tbody>\n",
              "    <tr>\n",
              "      <th>0</th>\n",
              "      <td>31</td>\n",
              "      <td>Aidan</td>\n",
              "      <td>Male</td>\n",
              "      <td>60</td>\n",
              "      <td>Artist</td>\n",
              "      <td>0</td>\n",
              "      <td>3</td>\n",
              "      <td>? 9,36,000.00</td>\n",
              "      <td>Mumbai</td>\n",
              "    </tr>\n",
              "    <tr>\n",
              "      <th>1</th>\n",
              "      <td>53</td>\n",
              "      <td>Saumya</td>\n",
              "      <td>Female</td>\n",
              "      <td>31</td>\n",
              "      <td>Artist</td>\n",
              "      <td>1</td>\n",
              "      <td>1</td>\n",
              "      <td>? 8,32,000.00</td>\n",
              "      <td>Nagpur</td>\n",
              "    </tr>\n",
              "    <tr>\n",
              "      <th>2</th>\n",
              "      <td>34</td>\n",
              "      <td>Tejas</td>\n",
              "      <td>Male</td>\n",
              "      <td>18</td>\n",
              "      <td>Homemaker</td>\n",
              "      <td>9</td>\n",
              "      <td>7</td>\n",
              "      <td>? 9,01,000.00</td>\n",
              "      <td>Nagpur</td>\n",
              "    </tr>\n",
              "  </tbody>\n",
              "</table>\n",
              "</div>\n",
              "      <button class=\"colab-df-convert\" onclick=\"convertToInteractive('df-4304a2b9-816a-4195-95b9-fe49f873f1a4')\"\n",
              "              title=\"Convert this dataframe to an interactive table.\"\n",
              "              style=\"display:none;\">\n",
              "        \n",
              "  <svg xmlns=\"http://www.w3.org/2000/svg\" height=\"24px\"viewBox=\"0 0 24 24\"\n",
              "       width=\"24px\">\n",
              "    <path d=\"M0 0h24v24H0V0z\" fill=\"none\"/>\n",
              "    <path d=\"M18.56 5.44l.94 2.06.94-2.06 2.06-.94-2.06-.94-.94-2.06-.94 2.06-2.06.94zm-11 1L8.5 8.5l.94-2.06 2.06-.94-2.06-.94L8.5 2.5l-.94 2.06-2.06.94zm10 10l.94 2.06.94-2.06 2.06-.94-2.06-.94-.94-2.06-.94 2.06-2.06.94z\"/><path d=\"M17.41 7.96l-1.37-1.37c-.4-.4-.92-.59-1.43-.59-.52 0-1.04.2-1.43.59L10.3 9.45l-7.72 7.72c-.78.78-.78 2.05 0 2.83L4 21.41c.39.39.9.59 1.41.59.51 0 1.02-.2 1.41-.59l7.78-7.78 2.81-2.81c.8-.78.8-2.07 0-2.86zM5.41 20L4 18.59l7.72-7.72 1.47 1.35L5.41 20z\"/>\n",
              "  </svg>\n",
              "      </button>\n",
              "      \n",
              "  <style>\n",
              "    .colab-df-container {\n",
              "      display:flex;\n",
              "      flex-wrap:wrap;\n",
              "      gap: 12px;\n",
              "    }\n",
              "\n",
              "    .colab-df-convert {\n",
              "      background-color: #E8F0FE;\n",
              "      border: none;\n",
              "      border-radius: 50%;\n",
              "      cursor: pointer;\n",
              "      display: none;\n",
              "      fill: #1967D2;\n",
              "      height: 32px;\n",
              "      padding: 0 0 0 0;\n",
              "      width: 32px;\n",
              "    }\n",
              "\n",
              "    .colab-df-convert:hover {\n",
              "      background-color: #E2EBFA;\n",
              "      box-shadow: 0px 1px 2px rgba(60, 64, 67, 0.3), 0px 1px 3px 1px rgba(60, 64, 67, 0.15);\n",
              "      fill: #174EA6;\n",
              "    }\n",
              "\n",
              "    [theme=dark] .colab-df-convert {\n",
              "      background-color: #3B4455;\n",
              "      fill: #D2E3FC;\n",
              "    }\n",
              "\n",
              "    [theme=dark] .colab-df-convert:hover {\n",
              "      background-color: #434B5C;\n",
              "      box-shadow: 0px 1px 3px 1px rgba(0, 0, 0, 0.15);\n",
              "      filter: drop-shadow(0px 1px 2px rgba(0, 0, 0, 0.3));\n",
              "      fill: #FFFFFF;\n",
              "    }\n",
              "  </style>\n",
              "\n",
              "      <script>\n",
              "        const buttonEl =\n",
              "          document.querySelector('#df-4304a2b9-816a-4195-95b9-fe49f873f1a4 button.colab-df-convert');\n",
              "        buttonEl.style.display =\n",
              "          google.colab.kernel.accessAllowed ? 'block' : 'none';\n",
              "\n",
              "        async function convertToInteractive(key) {\n",
              "          const element = document.querySelector('#df-4304a2b9-816a-4195-95b9-fe49f873f1a4');\n",
              "          const dataTable =\n",
              "            await google.colab.kernel.invokeFunction('convertToInteractive',\n",
              "                                                     [key], {});\n",
              "          if (!dataTable) return;\n",
              "\n",
              "          const docLinkHtml = 'Like what you see? Visit the ' +\n",
              "            '<a target=\"_blank\" href=https://colab.research.google.com/notebooks/data_table.ipynb>data table notebook</a>'\n",
              "            + ' to learn more about interactive tables.';\n",
              "          element.innerHTML = '';\n",
              "          dataTable['output_type'] = 'display_data';\n",
              "          await google.colab.output.renderOutput(dataTable, element);\n",
              "          const docLink = document.createElement('div');\n",
              "          docLink.innerHTML = docLinkHtml;\n",
              "          element.appendChild(docLink);\n",
              "        }\n",
              "      </script>\n",
              "    </div>\n",
              "  </div>\n",
              "  "
            ]
          },
          "metadata": {},
          "execution_count": 134
        }
      ]
    },
    {
      "cell_type": "markdown",
      "source": [
        "25 women and 14 men showed this behaviour"
      ],
      "metadata": {
        "id": "glJoRvAIJXlO"
      }
    },
    {
      "cell_type": "code",
      "source": [
        "pd_joined_df['Gender'].value_counts()"
      ],
      "metadata": {
        "colab": {
          "base_uri": "https://localhost:8080/"
        },
        "id": "vHqBXJNZI1rE",
        "outputId": "097d4725-a85a-42ee-efe0-3a4d336442bf"
      },
      "execution_count": 135,
      "outputs": [
        {
          "output_type": "execute_result",
          "data": {
            "text/plain": [
              "Female    26\n",
              "Male      13\n",
              "Name: Gender, dtype: int64"
            ]
          },
          "metadata": {},
          "execution_count": 135
        }
      ]
    },
    {
      "cell_type": "code",
      "source": [
        "count = [14,25]\n",
        "gender = ['Male','Female']\n",
        "plt.bar(gender,count,width = 0.5)\n",
        "plt.xlabel('Gender')\n",
        "plt.ylabel('Counts')\n",
        "plt.show()"
      ],
      "metadata": {
        "colab": {
          "base_uri": "https://localhost:8080/",
          "height": 449
        },
        "id": "_DvBUmK4I1tI",
        "outputId": "8b2de32e-4728-4c43-a2fd-6b972513ccfa"
      },
      "execution_count": 136,
      "outputs": [
        {
          "output_type": "display_data",
          "data": {
            "text/plain": [
              "<Figure size 640x480 with 1 Axes>"
            ],
            "image/png": "[encoded data removed]"
          },
          "metadata": {}
        }
      ]
    },
    {
      "cell_type": "markdown",
      "source": [
        "Above chart shows downward substitution per gender"
      ],
      "metadata": {
        "id": "vFWVffcNJkF6"
      }
    },
    {
      "cell_type": "code",
      "source": [
        "a = pd_joined_df['Age'].unique()\n",
        "b = pd_joined_df['Age'].value_counts()\n",
        "\n",
        "# Create a bar plot\n",
        "plt.bar(a, b)\n",
        "\n",
        "plt.xlabel('Age')\n",
        "plt.ylabel('Counts')\n",
        "plt.title('Age Distribution')\n",
        "\n",
        "plt.show()"
      ],
      "metadata": {
        "colab": {
          "base_uri": "https://localhost:8080/",
          "height": 472
        },
        "id": "oNiRYqE1I1vV",
        "outputId": "b1e82d86-48e8-4371-a9be-6320e01c42b4"
      },
      "execution_count": 137,
      "outputs": [
        {
          "output_type": "display_data",
          "data": {
            "text/plain": [
              "<Figure size 640x480 with 1 Axes>"
            ],
            "image/png": "[encoded data removed]"
          },
          "metadata": {}
        }
      ]
    },
    {
      "cell_type": "markdown",
      "source": [
        "Above chart shows people in 60's shown highest downward substitution"
      ],
      "metadata": {
        "id": "OGYR6YVqJtp1"
      }
    },
    {
      "cell_type": "code",
      "source": [
        "plt.pie(pd_joined_df['Profession'].value_counts(ascending=False), labels =pd_joined_df['Profession'].unique(),autopct = '%0.1f%%', shadow=True)\n",
        "plt.show()"
      ],
      "metadata": {
        "colab": {
          "base_uri": "https://localhost:8080/",
          "height": 406
        },
        "id": "6eILsSfgI1yh",
        "outputId": "cdfbc6ff-c579-4a1a-c688-c91146555fc2"
      },
      "execution_count": 138,
      "outputs": [
        {
          "output_type": "display_data",
          "data": {
            "text/plain": [
              "<Figure size 640x480 with 1 Axes>"
            ],
            "image/png": "[encoded data removed]"
          },
          "metadata": {}
        }
      ]
    },
    {
      "cell_type": "markdown",
      "source": [
        "Artist,homemaker, Heathcare professionals shown maximum downward substitution"
      ],
      "metadata": {
        "id": "BPMicwV7KDVB"
      }
    },
    {
      "cell_type": "code",
      "source": [
        "y = pd_joined_df['City'].value_counts().values.tolist()\n",
        "x = pd_joined_df['City'].unique().tolist()\n",
        "plt.bar(x,y)\n",
        "plt.xlabel('City')\n",
        "plt.ylabel('Counts')\n",
        "plt.title('Downward Substitution by City')\n",
        "plt.show()"
      ],
      "metadata": {
        "colab": {
          "base_uri": "https://localhost:8080/",
          "height": 472
        },
        "id": "F3g7aDoEJ8sN",
        "outputId": "ad2e1305-4c7b-41ed-9836-978275a1bf97"
      },
      "execution_count": 139,
      "outputs": [
        {
          "output_type": "display_data",
          "data": {
            "text/plain": [
              "<Figure size 640x480 with 1 Axes>"
            ],
            "image/png": "[encoded data removed]"
          },
          "metadata": {}
        }
      ]
    },
    {
      "cell_type": "markdown",
      "source": [
        "downward substitution is maximum in Mumbai followed by Nagpur and Pune"
      ],
      "metadata": {
        "id": "eSdqqljRKbMj"
      }
    },
    {
      "cell_type": "code",
      "source": [],
      "metadata": {
        "id": "xZu2OFf0J8ug"
      },
      "execution_count": null,
      "outputs": []
    },
    {
      "cell_type": "code",
      "source": [],
      "metadata": {
        "id": "6p1Gfvf9J8xA"
      },
      "execution_count": null,
      "outputs": []
    },
    {
      "cell_type": "code",
      "source": [],
      "metadata": {
        "id": "QxD1ABpSJ8y4"
      },
      "execution_count": null,
      "outputs": []
    },
    {
      "cell_type": "code",
      "source": [],
      "metadata": {
        "id": "aLLji0LjJ82Y"
      },
      "execution_count": null,
      "outputs": []
    },
    {
      "cell_type": "code",
      "source": [],
      "metadata": {
        "id": "7lsZZXv8I2BP"
      },
      "execution_count": null,
      "outputs": []
    }
  ]
}